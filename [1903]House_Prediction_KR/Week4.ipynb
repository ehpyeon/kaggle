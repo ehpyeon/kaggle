{
 "cells": [
  {
   "cell_type": "markdown",
   "metadata": {
    "colab_type": "text",
    "id": "PiRNGxTu-3Cf"
   },
   "source": [
    "# 0 Basic"
   ]
  },
  {
   "cell_type": "markdown",
   "metadata": {
    "colab_type": "text",
    "id": "Oiak3API_doG"
   },
   "source": [
    "## 0.0 Descriptions"
   ]
  },
  {
   "cell_type": "markdown",
   "metadata": {
    "colab_type": "text",
    "id": "P_9ZPrFm_Sda"
   },
   "source": [
    "## 0.1 References\n"
   ]
  },
  {
   "cell_type": "markdown",
   "metadata": {
    "colab_type": "text",
    "id": "cR0WwPhI_m2h"
   },
   "source": [
    "\n",
    "\n",
    "**Original Dataset Source**\n",
    "\n",
    "* [House Sales in King County, USA](https://www.kaggle.com/harlfoxem/housesalesprediction)\n",
    "\n",
    "---\n",
    "\n",
    "**Refered Kernels**\n",
    "\n",
    "* [House Price Prediction EDA (updated 2019.03.12)](https://www.kaggle.com/chocozzz/house-price-prediction-eda-updated-2019-03-12)\n",
    "\n",
    "* [2019 ML month 2nd baseline 커널](https://www.kaggle.com/kcs93023/2019-ml-month-2nd-baseline)\n",
    "\n",
    "---\n",
    "\n",
    "**Refered Links**\n",
    "\n",
    "* [King County Home Sales: Analysis and the limitations of a multiple regression model](https://rstudio-pubs-static.s3.amazonaws.com/155304_cc51f448116744069664b35e7762999f.html)"
   ]
  },
  {
   "cell_type": "markdown",
   "metadata": {
    "colab_type": "text",
    "id": "172BP8Sb_Fc_"
   },
   "source": [
    "## 0.2 Modules"
   ]
  },
  {
   "cell_type": "code",
   "execution_count": 1,
   "metadata": {
    "colab": {},
    "colab_type": "code",
    "id": "GWNfJWxu7R4J"
   },
   "outputs": [],
   "source": [
    "import pandas as pd\n",
    "\n",
    "## cmd+m+h ; shortcuts"
   ]
  },
  {
   "cell_type": "code",
   "execution_count": 2,
   "metadata": {
    "colab": {},
    "colab_type": "code",
    "id": "ZNHa2gg87aGm"
   },
   "outputs": [],
   "source": [
    "# Analyzing\n",
    "import numpy as np\n",
    "from scipy.stats import norm\n",
    "from sklearn.preprocessing import StandardScaler\n",
    "from scipy import stats\n",
    "\n",
    "# Visualizing\n",
    "import matplotlib.pyplot as plt\n",
    "import seaborn as sns\n",
    "import missingno as msno\n",
    "%matplotlib inline\n",
    "\n",
    "# Others\n",
    "import warnings \n",
    "warnings.filterwarnings('ignore')"
   ]
  },
  {
   "cell_type": "markdown",
   "metadata": {
    "colab_type": "text",
    "id": "lVaGugaS_JkH"
   },
   "source": [
    "## 0.3 Datas"
   ]
  },
  {
   "cell_type": "code",
   "execution_count": 3,
   "metadata": {
    "colab": {
     "base_uri": "https://localhost:8080/",
     "height": 187
    },
    "colab_type": "code",
    "id": "c-9VRWYj6uGE",
    "outputId": "51e720fe-5142-4702-adc1-5dfd0470742c"
   },
   "outputs": [
    {
     "name": "stdout",
     "output_type": "stream",
     "text": [
      "1.train Shape:  (15035, 21)\n",
      "2.test Shape:  (6468, 20)\n",
      "3.all Shape:  (21503, 21) \n",
      "\n",
      "test features:  Index(['id', 'date', 'bedrooms', 'bathrooms', 'sqft_living', 'sqft_lot',\n",
      "       'floors', 'waterfront', 'view', 'condition', 'grade', 'sqft_above',\n",
      "       'sqft_basement', 'yr_built', 'yr_renovated', 'zipcode', 'lat', 'long',\n",
      "       'sqft_living15', 'sqft_lot15'],\n",
      "      dtype='object')\n",
      "target feature:  {'price'}\n"
     ]
    }
   ],
   "source": [
    "## Data Links\n",
    "url_train = 'https://raw.githubusercontent.com/ehpyeon/kaggle/master/%5B1903%5DHouse_Prediction_KR/train.csv'\n",
    "url_test = \"https://raw.githubusercontent.com/ehpyeon/kaggle/master/%5B1903%5DHouse_Prediction_KR/test.csv\"\n",
    "## Save to Var\n",
    "train = pd.read_csv(url_train)\n",
    "test = pd.read_csv(url_test)\n",
    "all = pd.concat([train,test],axis=0)\n",
    "## Checking\n",
    "print(\"1.train Shape: \",train.shape)\n",
    "print(\"2.test Shape: \",test.shape)\n",
    "print(\"3.all Shape: \",all.shape,\"\\n\")\n",
    "print(\"test features: \",test.columns)\n",
    "print(\"target feature: \",set(train.columns)-set(test.columns))"
   ]
  },
  {
   "cell_type": "markdown",
   "metadata": {
    "colab_type": "text",
    "id": "7HdGdsdd-euZ"
   },
   "source": [
    "# 1 EDA"
   ]
  },
  {
   "cell_type": "markdown",
   "metadata": {
    "colab_type": "text",
    "id": "iSBmDuriEWfy"
   },
   "source": [
    "## 1.0 Feature Descriptions\n",
    "- ID : Numbers to identify houses\n",
    "- date : Date to buy the house\n",
    "- bedrooms: Numbers of bedrooms\n",
    "- bathrooms: Numbers of bathrooms\n",
    "- sqft_living: 주거 공간의 평방 피트(면적)\n",
    "- sqft_lot : 부지의 평방 피트(면적)\n",
    "- floors : 집의 층 수\n",
    "- waterfront : 집의 전방에 강이 흐르는지 유뮤(a.k.a 리버뷰)\n",
    "- view : Has been viewed\n",
    "- condition : 집의 전반적인 상태\n",
    "- grade : King Country gradinf 시스템 기준으로 매긴 집의 등급\n",
    "- sqft_basement : 지하실의 평방 피트(면적)\n",
    "- yr_built : 지어진 년도\n",
    "- zipcode : 우편번호\n",
    "- lat : 위도\n",
    "- long : 경도\n",
    "- sqft_living15 : 2015년 기준 주거 공간의 평방 피트(면적, 집을 재건축했다면 변화가 있을 수 있음)\n",
    "- sqft_lot15: 2015년 기준 주차 공간의 평방 피트(면적, 집을 재건축했다면 변화가 있을 수 있다.)\n",
    "- lot/living 이런걸 변수로 만들 수 있다.\n",
    "### Target Feature\n",
    "- price : price of house at the 'date' to buy "
   ]
  },
  {
   "cell_type": "markdown",
   "metadata": {
    "colab_type": "text",
    "id": "gBkTULQ7Ccir"
   },
   "source": [
    "## 1.1 Overall"
   ]
  },
  {
   "cell_type": "markdown",
   "metadata": {
    "colab_type": "text",
    "id": "tGzo7_qoDlud"
   },
   "source": [
    "### 1.1.0 Missing value"
   ]
  },
  {
   "cell_type": "code",
   "execution_count": 4,
   "metadata": {
    "colab": {
     "base_uri": "https://localhost:8080/",
     "height": 2289
    },
    "colab_type": "code",
    "id": "4biddJs4I2Ke",
    "outputId": "de619e04-38ff-47a2-9100-3222eff6b240"
   },
   "outputs": [
    {
     "data": {
      "text/plain": [
       "<matplotlib.axes._subplots.AxesSubplot at 0x1115084e0>"
      ]
     },
     "execution_count": 4,
     "metadata": {},
     "output_type": "execute_result"
    },
    {
     "data": {
      "image/png": "[encoded data removed]",
      "text/plain": [
       "<Figure size 576x288 with 2 Axes>"
      ]
     },
     "metadata": {
      "needs_background": "light"
     },
     "output_type": "display_data"
    }
   ],
   "source": [
    "# Check with graph\n",
    "msno.matrix(all,figsize=(8,4))"
   ]
  },
  {
   "cell_type": "code",
   "execution_count": 5,
   "metadata": {
    "colab": {
     "base_uri": "https://localhost:8080/",
     "height": 391
    },
    "colab_type": "code",
    "id": "RK6Tpj5wJXZ0",
    "outputId": "e85d633f-6267-4150-a790-89552c59296a"
   },
   "outputs": [
    {
     "data": {
      "text/plain": [
       "bathrooms           0\n",
       "bedrooms            0\n",
       "condition           0\n",
       "date                0\n",
       "floors              0\n",
       "grade               0\n",
       "id                  0\n",
       "lat                 0\n",
       "long                0\n",
       "price            6468\n",
       "sqft_above          0\n",
       "sqft_basement       0\n",
       "sqft_living         0\n",
       "sqft_living15       0\n",
       "sqft_lot            0\n",
       "sqft_lot15          0\n",
       "view                0\n",
       "waterfront          0\n",
       "yr_built            0\n",
       "yr_renovated        0\n",
       "zipcode             0\n",
       "dtype: int64"
      ]
     },
     "execution_count": 5,
     "metadata": {},
     "output_type": "execute_result"
    }
   ],
   "source": [
    "# Check with numbers\n",
    "all.isnull().sum()"
   ]
  },
  {
   "cell_type": "markdown",
   "metadata": {
    "colab_type": "text",
    "id": "qEr_K4GZCWuV"
   },
   "source": [
    "## 1.2 Each Features"
   ]
  },
  {
   "cell_type": "markdown",
   "metadata": {
    "colab_type": "text",
    "id": "mQJSO83eWq0r"
   },
   "source": [
    "### 1.2.0 Features grouping\n",
    "\n",
    "1 target : price\n",
    "\n",
    "2 year : date, yar_built, yr_renovated\n",
    "\n",
    "3 sqft : above, basement, living, living15, lot, lot15\n",
    "\n",
    "4.level : grade, condition, view, waterfront\n",
    "\n",
    "5.room : bathrooms, bedrooms\n",
    "\n",
    "6.location : lat, long, zipcode\n",
    "\n",
    "7.other : floors, id"
   ]
  },
  {
   "cell_type": "markdown",
   "metadata": {
    "colab_type": "text",
    "id": "PVLnsMvwWgdz"
   },
   "source": [
    "### 1.2.1 target : price\n"
   ]
  },
  {
   "cell_type": "markdown",
   "metadata": {
    "colab_type": "text",
    "id": "l2VfG473A9OE"
   },
   "source": [
    "#### State"
   ]
  },
  {
   "cell_type": "code",
   "execution_count": 6,
   "metadata": {
    "colab": {
     "base_uri": "https://localhost:8080/",
     "height": 170
    },
    "colab_type": "code",
    "id": "qLuzGwVLa4ix",
    "outputId": "8c0297d1-32d7-43e1-d97a-c7bc6f994eb5"
   },
   "outputs": [
    {
     "data": {
      "text/plain": [
       "count    1.503500e+04\n",
       "mean     5.406827e+05\n",
       "std      3.715247e+05\n",
       "min      7.800000e+04\n",
       "25%      3.220000e+05\n",
       "50%      4.500000e+05\n",
       "75%      6.450000e+05\n",
       "max      7.700000e+06\n",
       "Name: price, dtype: float64"
      ]
     },
     "execution_count": 6,
     "metadata": {},
     "output_type": "execute_result"
    }
   ],
   "source": [
    "train['price'].describe()"
   ]
  },
  {
   "cell_type": "markdown",
   "metadata": {
    "colab_type": "text",
    "id": "36JvjY9lbQKF"
   },
   "source": [
    "* Large gaps between mean and 50% value. That is, normalization is needed"
   ]
  },
  {
   "cell_type": "code",
   "execution_count": 7,
   "metadata": {
    "colab": {
     "base_uri": "https://localhost:8080/",
     "height": 2289
    },
    "colab_type": "code",
    "id": "oxSc7obEbPwP",
    "outputId": "4dbac265-70e4-436d-9afd-bc950afe9ede"
   },
   "outputs": [
    {
     "data": {
      "text/plain": [
       "<matplotlib.axes._subplots.AxesSubplot at 0x1a25a66240>"
      ]
     },
     "execution_count": 7,
     "metadata": {},
     "output_type": "execute_result"
    },
    {
     "data": {
      "image/png": "[encoded data removed]",
      "text/plain": [
       "<Figure size 432x288 with 1 Axes>"
      ]
     },
     "metadata": {
      "needs_background": "light"
     },
     "output_type": "display_data"
    }
   ],
   "source": [
    "train['price'].hist(bins=100)"
   ]
  },
  {
   "cell_type": "markdown",
   "metadata": {
    "colab_type": "text",
    "id": "4HJqj9Tac80x"
   },
   "source": [
    "* right skewed. There are outliers"
   ]
  },
  {
   "cell_type": "markdown",
   "metadata": {
    "colab_type": "text",
    "id": "ayhGnlHpBLpG"
   },
   "source": [
    "#### Normalizing"
   ]
  },
  {
   "cell_type": "code",
   "execution_count": 8,
   "metadata": {
    "colab": {},
    "colab_type": "code",
    "id": "CHScvezHdWtp"
   },
   "outputs": [],
   "source": [
    "#Managing skewed 1 : Nomalizatio\n"
   ]
  },
  {
   "cell_type": "code",
   "execution_count": 9,
   "metadata": {
    "colab": {},
    "colab_type": "code",
    "id": "rX1QQOezdw1B"
   },
   "outputs": [],
   "source": [
    "# Managing skewed 1 : Removing Top 10$"
   ]
  },
  {
   "cell_type": "markdown",
   "metadata": {
    "colab_type": "text",
    "id": "4bRG-dpPYIoj"
   },
   "source": [
    "### 1.2.2 year : date, yr_built, yr_renovated"
   ]
  },
  {
   "cell_type": "code",
   "execution_count": 10,
   "metadata": {
    "colab": {},
    "colab_type": "code",
    "id": "LsF-Fg2Nptj8"
   },
   "outputs": [],
   "source": [
    "# Local Date Functions\n",
    "## Divide date values \n",
    "def divide_date(x):\n",
    "  return x[:8]\n",
    "\n",
    "## divide year values\n",
    "def divide_year(x):\n",
    "  return x[:4]\n",
    "\n",
    "## divide month values\n",
    "def divide_month(x):\n",
    "  return x[4:6]\n",
    "\n",
    "## divide day values\n",
    "def divide_day(x):\n",
    "  return x[6:8]\n",
    "\n",
    "## divide year and month values\n",
    "def divide_yearmonth(x):\n",
    "  return x[:6]\n"
   ]
  },
  {
   "cell_type": "code",
   "execution_count": 11,
   "metadata": {
    "colab": {},
    "colab_type": "code",
    "id": "uXe5sUQoq8QP"
   },
   "outputs": [],
   "source": [
    "all['year'] = all['date'].apply(lambda x: divide_year(x))\n",
    "all['month'] = all['date'].apply(lambda x: divide_month(x))\n",
    "all['day'] = all['date'].apply(lambda x: divide_day(x))\n",
    "all['yearmonth'] = all['date'].apply(lambda x: divide_yearmonth(x))\n",
    "train['year'] = train['date'].apply(lambda x: divide_year(x))\n",
    "train['month'] = train['date'].apply(lambda x: divide_month(x))\n",
    "train['day'] = train['date'].apply(lambda x: divide_day(x))\n",
    "train['yearmonth'] = train['date'].apply(lambda x: divide_yearmonth(x))"
   ]
  },
  {
   "cell_type": "code",
   "execution_count": 12,
   "metadata": {
    "colab": {
     "base_uri": "https://localhost:8080/",
     "height": 2289
    },
    "colab_type": "code",
    "id": "zMC16ARVruVX",
    "outputId": "3ba2419d-e525-492c-8ce8-ab3ff688b67d"
   },
   "outputs": [
    {
     "data": {
      "text/plain": [
       "<matplotlib.axes._subplots.AxesSubplot at 0x1a29488278>"
      ]
     },
     "execution_count": 12,
     "metadata": {},
     "output_type": "execute_result"
    },
    {
     "data": {
      "image/png": "[encoded data removed]",
      "text/plain": [
       "<Figure size 432x288 with 1 Axes>"
      ]
     },
     "metadata": {
      "needs_background": "light"
     },
     "output_type": "display_data"
    }
   ],
   "source": [
    "all.head()\n",
    "all.month.value_counts().sort_index(axis=0).plot(kind='bar')"
   ]
  },
  {
   "cell_type": "markdown",
   "metadata": {
    "colab_type": "text",
    "id": "jzTYq4flaGH6"
   },
   "source": [
    "\n",
    "#### - Year"
   ]
  },
  {
   "cell_type": "code",
   "execution_count": 13,
   "metadata": {
    "colab": {
     "base_uri": "https://localhost:8080/",
     "height": 255
    },
    "colab_type": "code",
    "id": "Nxac7SUuKDx8",
    "outputId": "1b3f51e4-19d6-45bb-ae69-a22be72d13ce"
   },
   "outputs": [
    {
     "data": {
      "text/plain": [
       "201405    1768\n",
       "201406    2180\n",
       "201407    2211\n",
       "201408    1937\n",
       "201409    1774\n",
       "201410    1873\n",
       "201411    1408\n",
       "201412    1459\n",
       "201501     969\n",
       "201502    1234\n",
       "201503    1851\n",
       "201504    2204\n",
       "201505     635\n",
       "Name: date, dtype: int64"
      ]
     },
     "execution_count": 13,
     "metadata": {},
     "output_type": "execute_result"
    }
   ],
   "source": [
    "all['date'].apply(lambda x: x[:6]).value_counts().sort_index()\n",
    "## 이건 좀 이해가 안감..."
   ]
  },
  {
   "cell_type": "code",
   "execution_count": 14,
   "metadata": {
    "colab": {
     "base_uri": "https://localhost:8080/",
     "height": 272
    },
    "colab_type": "code",
    "id": "pONdDI_9s55Y",
    "outputId": "68eba078-3137-48f4-a137-cb29d9ab0513"
   },
   "outputs": [
    {
     "name": "stdout",
     "output_type": "stream",
     "text": [
      "yearmonth\n",
      "201405    549649.856230\n",
      "201406    549902.546667\n",
      "201407    546033.214918\n",
      "201408    533536.653196\n",
      "201409    532016.436838\n",
      "201410    535156.146747\n",
      "201411    523098.199796\n",
      "201412    531244.522908\n",
      "201501    526782.397974\n",
      "201502    510550.813539\n",
      "201503    546050.748462\n",
      "201504    562234.612459\n",
      "201505    576398.908482\n",
      "Name: price, dtype: float64\n"
     ]
    }
   ],
   "source": [
    "print(all.groupby('yearmonth')['price'].mean())"
   ]
  },
  {
   "cell_type": "markdown",
   "metadata": {
    "colab_type": "text",
    "id": "JOVzsNrFNuFF"
   },
   "source": [
    "- 일단 여기서 파악한 것은 2014년 5월~2015년 5월 정렬되어 있다는 것"
   ]
  },
  {
   "cell_type": "code",
   "execution_count": 15,
   "metadata": {
    "colab": {},
    "colab_type": "code",
    "id": "ZKlYCSM9D8pi"
   },
   "outputs": [],
   "source": [
    "# Date\n",
    "all['date'] = all['date'].apply(lambda x:x[0:8])\n",
    "train['date'] = train['date'].apply(lambda x:x[0:8])"
   ]
  },
  {
   "cell_type": "code",
   "execution_count": 16,
   "metadata": {
    "colab": {},
    "colab_type": "code",
    "id": "vXmPHjDoOUx6"
   },
   "outputs": [],
   "source": [
    "# Date_year\n",
    "all['date_year'] = all['date'].apply(lambda x:x[:4])\n",
    "\n",
    "# Date_month\n",
    "all['date_month'] = all['date'].apply(lambda x:x[4:6])\n",
    "\n",
    "# Date_day\n",
    "all['date_day'] = all['date'].apply(lambda x:x[6:8])\n",
    "\n",
    "# Date_year_month\n",
    "all['date_year_month'] = all['date'].apply(lambda x:x[0:6])"
   ]
  },
  {
   "cell_type": "code",
   "execution_count": 17,
   "metadata": {
    "colab": {
     "base_uri": "https://localhost:8080/",
     "height": 34
    },
    "colab_type": "code",
    "id": "Mw-YkSRGPeyM",
    "outputId": "35d57bbc-d72b-4aa9-c2da-4f089a9d216e"
   },
   "outputs": [
    {
     "data": {
      "text/plain": [
       "13"
      ]
     },
     "execution_count": 17,
     "metadata": {},
     "output_type": "execute_result"
    }
   ],
   "source": [
    "all['date_year_month'].nunique() \n",
    "## unique의 갯수를 구하는 것."
   ]
  },
  {
   "cell_type": "markdown",
   "metadata": {
    "colab_type": "text",
    "id": "g7tLQxClZVlo"
   },
   "source": [
    "- 뒤에 붙어 있는 T000000은 제거. 앞부분 8자리 남겨두기"
   ]
  },
  {
   "cell_type": "markdown",
   "metadata": {
    "colab_type": "text",
    "id": "vX_3oo_nH-fM"
   },
   "source": [
    "- 나중에 date_year, date_month, date_day 모두 만들어줘야 겠다."
   ]
  },
  {
   "cell_type": "code",
   "execution_count": 18,
   "metadata": {
    "colab": {
     "base_uri": "https://localhost:8080/",
     "height": 2289
    },
    "colab_type": "code",
    "id": "Cv7C-X4KunhR",
    "outputId": "31b7ab3b-b702-43e4-f88e-f3c9e1cbabcf"
   },
   "outputs": [
    {
     "data": {
      "text/plain": [
       "<matplotlib.axes._subplots.AxesSubplot at 0x1a29e6f3c8>"
      ]
     },
     "execution_count": 18,
     "metadata": {},
     "output_type": "execute_result"
    },
    {
     "data": {
      "image/png": "[encoded data removed]",
      "text/plain": [
       "<Figure size 432x288 with 1 Axes>"
      ]
     },
     "metadata": {
      "needs_background": "light"
     },
     "output_type": "display_data"
    }
   ],
   "source": [
    "all['yr_built'].value_counts().sort_index().plot()\n",
    "train.groupby('yr_built')['price'].agg('mean').plot(kind=\"line\")"
   ]
  },
  {
   "cell_type": "code",
   "execution_count": 19,
   "metadata": {
    "colab": {
     "base_uri": "https://localhost:8080/",
     "height": 51
    },
    "colab_type": "code",
    "id": "JsRyQq9evGSb",
    "outputId": "a403d7e4-57fe-4108-885d-009041785a02"
   },
   "outputs": [
    {
     "name": "stdout",
     "output_type": "stream",
     "text": [
      "529753.7629825049\n",
      "790159.2519809826\n"
     ]
    }
   ],
   "source": [
    "all['yr_renovated'].value_counts().sort_index()\n",
    "print(all[all['yr_renovated']==0].price.mean())\n",
    "print(all[all['yr_renovated']!=0].price.mean())"
   ]
  },
  {
   "cell_type": "code",
   "execution_count": 20,
   "metadata": {
    "colab": {
     "base_uri": "https://localhost:8080/",
     "height": 2289
    },
    "colab_type": "code",
    "id": "vWY_WJ5DwzZd",
    "outputId": "b942e9d2-6f8d-4e53-ef79-c3f63dde2d90"
   },
   "outputs": [
    {
     "data": {
      "text/plain": [
       "<matplotlib.axes._subplots.AxesSubplot at 0x1a252d8a90>"
      ]
     },
     "execution_count": 20,
     "metadata": {},
     "output_type": "execute_result"
    },
    {
     "data": {
      "image/png": "[encoded data removed]",
      "text/plain": [
       "<Figure size 432x288 with 1 Axes>"
      ]
     },
     "metadata": {
      "needs_background": "light"
     },
     "output_type": "display_data"
    }
   ],
   "source": [
    "all[all['yr_renovated']!=0]['yr_renovated'].value_counts().sort_index().plot()"
   ]
  },
  {
   "cell_type": "markdown",
   "metadata": {
    "colab_type": "text",
    "id": "9Bzo67ZQYNkn"
   },
   "source": [
    "### 1.2.3 sqft : above, basement, living, living15, lot, lot15"
   ]
  },
  {
   "cell_type": "markdown",
   "metadata": {
    "colab_type": "text",
    "id": "f5Pt5pNnFPw4"
   },
   "source": [
    "#### sqft_living\n",
    "- 주거 공간의 평방피트(면적)\n",
    "- 실제 사용면적을 의미\n",
    "- 1 sqlf = 0.0281평\n",
    "- 1000sqlf = 28~32평"
   ]
  },
  {
   "cell_type": "code",
   "execution_count": 21,
   "metadata": {
    "colab": {
     "base_uri": "https://localhost:8080/",
     "height": 2442
    },
    "colab_type": "code",
    "id": "N2KwYQFGFkNm",
    "outputId": "ffb58018-ed43-4b64-8aeb-5e93777f9258"
   },
   "outputs": [
    {
     "name": "stdout",
     "output_type": "stream",
     "text": [
      "AxesSubplot(0.125,0.125;0.775x0.755)\n",
      "count    21503.000000\n",
      "mean      2081.441334\n",
      "std        918.669624\n",
      "min        290.000000\n",
      "25%       1430.000000\n",
      "50%       1914.000000\n",
      "75%       2550.000000\n",
      "max      13540.000000\n",
      "Name: sqft_living, dtype: float64\n"
     ]
    },
    {
     "data": {
      "image/png": "[encoded data removed]",
      "text/plain": [
       "<Figure size 432x288 with 1 Axes>"
      ]
     },
     "metadata": {
      "needs_background": "light"
     },
     "output_type": "display_data"
    }
   ],
   "source": [
    "all['sqft_living'].describe()\n",
    "print(all['sqft_living'].value_counts().sort_index(axis=0).plot())\n",
    "print(all['sqft_living'].describe())\n"
   ]
  },
  {
   "cell_type": "code",
   "execution_count": 22,
   "metadata": {
    "colab": {
     "base_uri": "https://localhost:8080/",
     "height": 2289
    },
    "colab_type": "code",
    "id": "H04vNOr0rQ0v",
    "outputId": "d0f48af1-ec82-41ad-cf5d-72477ade7040"
   },
   "outputs": [
    {
     "data": {
      "text/plain": [
       "<matplotlib.axes._subplots.AxesSubplot at 0x1a26100f28>"
      ]
     },
     "execution_count": 22,
     "metadata": {},
     "output_type": "execute_result"
    },
    {
     "data": {
      "image/png": "[encoded data removed]",
      "text/plain": [
       "<Figure size 432x288 with 1 Axes>"
      ]
     },
     "metadata": {
      "needs_background": "light"
     },
     "output_type": "display_data"
    }
   ],
   "source": [
    "bins = pd.cut(all['sqft_living'],[0,2000,4000,6000,8000,10000,12000,14000])\n",
    "all.groupby(bins)['price'].agg(['mean']).plot(kind='bar')"
   ]
  },
  {
   "cell_type": "markdown",
   "metadata": {
    "colab_type": "text",
    "id": "mhj19llkFUMP"
   },
   "source": [
    "#### sqft_lot"
   ]
  },
  {
   "cell_type": "markdown",
   "metadata": {
    "colab_type": "text",
    "id": "j4jtElfvFUCS"
   },
   "source": [
    "#### sqft_above"
   ]
  },
  {
   "cell_type": "markdown",
   "metadata": {
    "colab_type": "text",
    "id": "8UcTYuyEFT2e"
   },
   "source": [
    "#### sqft_basement"
   ]
  },
  {
   "cell_type": "markdown",
   "metadata": {
    "colab_type": "text",
    "id": "y62DoQhSFTjt"
   },
   "source": [
    "#### sqft_living15"
   ]
  },
  {
   "cell_type": "markdown",
   "metadata": {
    "colab_type": "text",
    "id": "AFi6huHgFeNT"
   },
   "source": [
    "#### sqft_lot15"
   ]
  },
  {
   "cell_type": "markdown",
   "metadata": {
    "colab_type": "text",
    "id": "5MC7M_X8YSqf"
   },
   "source": [
    "### 1.2.4 level : grade, condition, view, waterfront\n"
   ]
  },
  {
   "cell_type": "markdown",
   "metadata": {
    "colab_type": "text",
    "id": "GtV-__IyYSij"
   },
   "source": [
    "### 1.2.5 room : bathrooms, bedrooms"
   ]
  },
  {
   "cell_type": "markdown",
   "metadata": {
    "colab_type": "text",
    "id": "tWdTBpwg_whQ"
   },
   "source": [
    "#### Bedrooms"
   ]
  },
  {
   "cell_type": "code",
   "execution_count": 23,
   "metadata": {
    "colab": {
     "base_uri": "https://localhost:8080/",
     "height": 2510
    },
    "colab_type": "code",
    "id": "qym1Q7Ms-nvu",
    "outputId": "798b138a-8862-4015-f0c1-af9af8221e8c"
   },
   "outputs": [
    {
     "name": "stdout",
     "output_type": "stream",
     "text": [
      "AxesSubplot(0.125,0.125;0.775x0.755)\n",
      "bedrooms\n",
      "0        4\n",
      "1      133\n",
      "2     1931\n",
      "3     6835\n",
      "4     4797\n",
      "5     1108\n",
      "6      188\n",
      "7       22\n",
      "8       10\n",
      "9        5\n",
      "10       2\n",
      "Name: price, dtype: int64\n"
     ]
    },
    {
     "data": {
      "image/png": "[encoded data removed]",
      "text/plain": [
       "<Figure size 432x288 with 1 Axes>"
      ]
     },
     "metadata": {
      "needs_background": "light"
     },
     "output_type": "display_data"
    }
   ],
   "source": [
    "## Bedrooms\n",
    "print(train.groupby('bedrooms')['price'].mean().plot(kind='bar'))\n",
    "print(train.groupby('bedrooms')['price'].count())"
   ]
  },
  {
   "cell_type": "code",
   "execution_count": 24,
   "metadata": {
    "colab": {
     "base_uri": "https://localhost:8080/",
     "height": 200
    },
    "colab_type": "code",
    "id": "FrA2ws6s_hyu",
    "outputId": "062a2e13-0dd6-4934-bd14-0b2fcd1f9794"
   },
   "outputs": [
    {
     "data": {
      "text/html": [
       "<div>\n",
       "<style scoped>\n",
       "    .dataframe tbody tr th:only-of-type {\n",
       "        vertical-align: middle;\n",
       "    }\n",
       "\n",
       "    .dataframe tbody tr th {\n",
       "        vertical-align: top;\n",
       "    }\n",
       "\n",
       "    .dataframe thead th {\n",
       "        text-align: right;\n",
       "    }\n",
       "</style>\n",
       "<table border=\"1\" class=\"dataframe\">\n",
       "  <thead>\n",
       "    <tr style=\"text-align: right;\">\n",
       "      <th></th>\n",
       "      <th>id</th>\n",
       "      <th>date</th>\n",
       "      <th>price</th>\n",
       "      <th>bedrooms</th>\n",
       "      <th>bathrooms</th>\n",
       "      <th>sqft_living</th>\n",
       "      <th>sqft_lot</th>\n",
       "      <th>floors</th>\n",
       "      <th>waterfront</th>\n",
       "      <th>view</th>\n",
       "      <th>...</th>\n",
       "      <th>yr_renovated</th>\n",
       "      <th>zipcode</th>\n",
       "      <th>lat</th>\n",
       "      <th>long</th>\n",
       "      <th>sqft_living15</th>\n",
       "      <th>sqft_lot15</th>\n",
       "      <th>year</th>\n",
       "      <th>month</th>\n",
       "      <th>day</th>\n",
       "      <th>yearmonth</th>\n",
       "    </tr>\n",
       "  </thead>\n",
       "  <tbody>\n",
       "    <tr>\n",
       "      <th>9280</th>\n",
       "      <td>9280</td>\n",
       "      <td>20140814</td>\n",
       "      <td>1148000.0</td>\n",
       "      <td>10</td>\n",
       "      <td>5.25</td>\n",
       "      <td>4590</td>\n",
       "      <td>10920</td>\n",
       "      <td>1.0</td>\n",
       "      <td>0</td>\n",
       "      <td>2</td>\n",
       "      <td>...</td>\n",
       "      <td>0</td>\n",
       "      <td>98004</td>\n",
       "      <td>47.5861</td>\n",
       "      <td>-122.113</td>\n",
       "      <td>2730</td>\n",
       "      <td>10400</td>\n",
       "      <td>2014</td>\n",
       "      <td>08</td>\n",
       "      <td>14</td>\n",
       "      <td>201408</td>\n",
       "    </tr>\n",
       "    <tr>\n",
       "      <th>10575</th>\n",
       "      <td>10575</td>\n",
       "      <td>20141029</td>\n",
       "      <td>650000.0</td>\n",
       "      <td>10</td>\n",
       "      <td>2.00</td>\n",
       "      <td>3610</td>\n",
       "      <td>11914</td>\n",
       "      <td>2.0</td>\n",
       "      <td>0</td>\n",
       "      <td>0</td>\n",
       "      <td>...</td>\n",
       "      <td>0</td>\n",
       "      <td>98006</td>\n",
       "      <td>47.5705</td>\n",
       "      <td>-122.175</td>\n",
       "      <td>2040</td>\n",
       "      <td>11914</td>\n",
       "      <td>2014</td>\n",
       "      <td>10</td>\n",
       "      <td>29</td>\n",
       "      <td>201410</td>\n",
       "    </tr>\n",
       "  </tbody>\n",
       "</table>\n",
       "<p>2 rows × 25 columns</p>\n",
       "</div>"
      ],
      "text/plain": [
       "          id      date      price  bedrooms  bathrooms  sqft_living  sqft_lot  \\\n",
       "9280    9280  20140814  1148000.0        10       5.25         4590     10920   \n",
       "10575  10575  20141029   650000.0        10       2.00         3610     11914   \n",
       "\n",
       "       floors  waterfront  view    ...      yr_renovated  zipcode      lat  \\\n",
       "9280      1.0           0     2    ...                 0    98004  47.5861   \n",
       "10575     2.0           0     0    ...                 0    98006  47.5705   \n",
       "\n",
       "          long  sqft_living15  sqft_lot15  year  month  day  yearmonth  \n",
       "9280  -122.113           2730       10400  2014     08   14     201408  \n",
       "10575 -122.175           2040       11914  2014     10   29     201410  \n",
       "\n",
       "[2 rows x 25 columns]"
      ]
     },
     "execution_count": 24,
     "metadata": {},
     "output_type": "execute_result"
    }
   ],
   "source": [
    "train[train.bedrooms == 10]"
   ]
  },
  {
   "cell_type": "markdown",
   "metadata": {
    "colab_type": "text",
    "id": "yw7ghEJd_0b3"
   },
   "source": [
    "#### Bathrooms"
   ]
  },
  {
   "cell_type": "code",
   "execution_count": 87,
   "metadata": {
    "colab": {
     "base_uri": "https://localhost:8080/",
     "height": 544
    },
    "colab_type": "code",
    "id": "u1XxHWdH_51K",
    "outputId": "2ff458f2-e2b6-45fa-ddf5-61d0a56eb262"
   },
   "outputs": [
    {
     "data": {
      "text/plain": [
       "<matplotlib.axes._subplots.AxesSubplot at 0x1a27fce550>"
      ]
     },
     "execution_count": 87,
     "metadata": {},
     "output_type": "execute_result"
    },
    {
     "data": {
      "image/png": "[encoded data removed]",
      "text/plain": [
       "<Figure size 432x288 with 1 Axes>"
      ]
     },
     "metadata": {
      "needs_background": "light"
     },
     "output_type": "display_data"
    }
   ],
   "source": [
    "all['bathrooms'].value_counts().sort_index(axis=0).plot(kind=\"bar\")\n"
   ]
  },
  {
   "cell_type": "code",
   "execution_count": 96,
   "metadata": {},
   "outputs": [
    {
     "data": {
      "text/html": [
       "<div>\n",
       "<style scoped>\n",
       "    .dataframe tbody tr th:only-of-type {\n",
       "        vertical-align: middle;\n",
       "    }\n",
       "\n",
       "    .dataframe tbody tr th {\n",
       "        vertical-align: top;\n",
       "    }\n",
       "\n",
       "    .dataframe thead th {\n",
       "        text-align: right;\n",
       "    }\n",
       "</style>\n",
       "<table border=\"1\" class=\"dataframe\">\n",
       "  <thead>\n",
       "    <tr style=\"text-align: right;\">\n",
       "      <th></th>\n",
       "      <th>mean</th>\n",
       "      <th>count</th>\n",
       "      <th>sum</th>\n",
       "    </tr>\n",
       "    <tr>\n",
       "      <th>sqft_living</th>\n",
       "      <th></th>\n",
       "      <th></th>\n",
       "      <th></th>\n",
       "    </tr>\n",
       "  </thead>\n",
       "  <tbody>\n",
       "    <tr>\n",
       "      <th>(276.75, 1236.429]</th>\n",
       "      <td>3.209415e+05</td>\n",
       "      <td>2360</td>\n",
       "      <td>7.574221e+08</td>\n",
       "    </tr>\n",
       "    <tr>\n",
       "      <th>(1236.429, 2182.857]</th>\n",
       "      <td>4.258860e+05</td>\n",
       "      <td>6931</td>\n",
       "      <td>2.951816e+09</td>\n",
       "    </tr>\n",
       "    <tr>\n",
       "      <th>(2182.857, 3129.286]</th>\n",
       "      <td>6.188426e+05</td>\n",
       "      <td>3889</td>\n",
       "      <td>2.406679e+09</td>\n",
       "    </tr>\n",
       "    <tr>\n",
       "      <th>(3129.286, 4075.714]</th>\n",
       "      <td>9.084229e+05</td>\n",
       "      <td>1365</td>\n",
       "      <td>1.239997e+09</td>\n",
       "    </tr>\n",
       "    <tr>\n",
       "      <th>(4075.714, 5022.143]</th>\n",
       "      <td>1.359426e+06</td>\n",
       "      <td>346</td>\n",
       "      <td>4.703613e+08</td>\n",
       "    </tr>\n",
       "    <tr>\n",
       "      <th>(5022.143, 5968.571]</th>\n",
       "      <td>1.781033e+06</td>\n",
       "      <td>99</td>\n",
       "      <td>1.763223e+08</td>\n",
       "    </tr>\n",
       "    <tr>\n",
       "      <th>(5968.571, 6915.0]</th>\n",
       "      <td>2.073054e+06</td>\n",
       "      <td>25</td>\n",
       "      <td>5.182635e+07</td>\n",
       "    </tr>\n",
       "    <tr>\n",
       "      <th>(6915.0, 7861.429]</th>\n",
       "      <td>2.657771e+06</td>\n",
       "      <td>12</td>\n",
       "      <td>3.189325e+07</td>\n",
       "    </tr>\n",
       "    <tr>\n",
       "      <th>(7861.429, 8807.857]</th>\n",
       "      <td>4.449600e+06</td>\n",
       "      <td>3</td>\n",
       "      <td>1.334880e+07</td>\n",
       "    </tr>\n",
       "    <tr>\n",
       "      <th>(8807.857, 9754.286]</th>\n",
       "      <td>5.570000e+06</td>\n",
       "      <td>1</td>\n",
       "      <td>5.570000e+06</td>\n",
       "    </tr>\n",
       "    <tr>\n",
       "      <th>(9754.286, 10700.714]</th>\n",
       "      <td>6.973750e+06</td>\n",
       "      <td>2</td>\n",
       "      <td>1.394750e+07</td>\n",
       "    </tr>\n",
       "    <tr>\n",
       "      <th>(10700.714, 11647.143]</th>\n",
       "      <td>NaN</td>\n",
       "      <td>0</td>\n",
       "      <td>0.000000e+00</td>\n",
       "    </tr>\n",
       "    <tr>\n",
       "      <th>(11647.143, 12593.571]</th>\n",
       "      <td>7.700000e+06</td>\n",
       "      <td>1</td>\n",
       "      <td>7.700000e+06</td>\n",
       "    </tr>\n",
       "    <tr>\n",
       "      <th>(12593.571, 13540.0]</th>\n",
       "      <td>2.280000e+06</td>\n",
       "      <td>1</td>\n",
       "      <td>2.280000e+06</td>\n",
       "    </tr>\n",
       "  </tbody>\n",
       "</table>\n",
       "</div>"
      ],
      "text/plain": [
       "                                mean  count           sum\n",
       "sqft_living                                              \n",
       "(276.75, 1236.429]      3.209415e+05   2360  7.574221e+08\n",
       "(1236.429, 2182.857]    4.258860e+05   6931  2.951816e+09\n",
       "(2182.857, 3129.286]    6.188426e+05   3889  2.406679e+09\n",
       "(3129.286, 4075.714]    9.084229e+05   1365  1.239997e+09\n",
       "(4075.714, 5022.143]    1.359426e+06    346  4.703613e+08\n",
       "(5022.143, 5968.571]    1.781033e+06     99  1.763223e+08\n",
       "(5968.571, 6915.0]      2.073054e+06     25  5.182635e+07\n",
       "(6915.0, 7861.429]      2.657771e+06     12  3.189325e+07\n",
       "(7861.429, 8807.857]    4.449600e+06      3  1.334880e+07\n",
       "(8807.857, 9754.286]    5.570000e+06      1  5.570000e+06\n",
       "(9754.286, 10700.714]   6.973750e+06      2  1.394750e+07\n",
       "(10700.714, 11647.143]           NaN      0  0.000000e+00\n",
       "(11647.143, 12593.571]  7.700000e+06      1  7.700000e+06\n",
       "(12593.571, 13540.0]    2.280000e+06      1  2.280000e+06"
      ]
     },
     "execution_count": 96,
     "metadata": {},
     "output_type": "execute_result"
    }
   ],
   "source": [
    "all['sqft_living'].value_counts().sort_index(axis=0)\n",
    "all.groupby(pd.cut(all['sqft_living'],14))['price'].agg(['mean','count','sum'])"
   ]
  },
  {
   "cell_type": "code",
   "execution_count": null,
   "metadata": {},
   "outputs": [],
   "source": []
  },
  {
   "cell_type": "code",
   "execution_count": 26,
   "metadata": {
    "colab": {
     "base_uri": "https://localhost:8080/",
     "height": 2289
    },
    "colab_type": "code",
    "id": "06WTjPG2ARL0",
    "outputId": "d5e0af74-82bf-474c-a3a0-a5347db99a25"
   },
   "outputs": [
    {
     "data": {
      "text/plain": [
       "<matplotlib.axes._subplots.AxesSubplot at 0x1a263339e8>"
      ]
     },
     "execution_count": 26,
     "metadata": {},
     "output_type": "execute_result"
    },
    {
     "data": {
      "image/png": "[encoded data removed]",
      "text/plain": [
       "<Figure size 432x288 with 1 Axes>"
      ]
     },
     "metadata": {
      "needs_background": "light"
     },
     "output_type": "display_data"
    }
   ],
   "source": [
    "train.groupby('bathrooms')['price'].mean().plot(kind='bar')"
   ]
  },
  {
   "cell_type": "markdown",
   "metadata": {
    "colab_type": "text",
    "id": "ygYbJc9dYSZZ"
   },
   "source": [
    "### 1.2.6 location : lat, long, zipcode\n"
   ]
  },
  {
   "cell_type": "code",
   "execution_count": 84,
   "metadata": {
    "colab": {
     "base_uri": "https://localhost:8080/",
     "height": 2289
    },
    "colab_type": "code",
    "id": "xN8F2S3exIGI",
    "outputId": "0c5e3746-2a38-4707-bb66-dd57ec41dc53"
   },
   "outputs": [
    {
     "name": "stdout",
     "output_type": "stream",
     "text": [
      "70\n",
      "70\n"
     ]
    },
    {
     "data": {
      "text/plain": [
       "<matplotlib.axes._subplots.AxesSubplot at 0x1a2b02bb00>"
      ]
     },
     "execution_count": 84,
     "metadata": {},
     "output_type": "execute_result"
    },
    {
     "data": {
      "image/png": "[encoded data removed]",
      "text/plain": [
       "<Figure size 432x288 with 1 Axes>"
      ]
     },
     "metadata": {
      "needs_background": "light"
     },
     "output_type": "display_data"
    }
   ],
   "source": [
    "print(len(all['zipcode'].unique()))\n",
    "print(all['zipcode'].nunique())\n",
    "train.groupby('zipcode')['price'].agg(['count','mean']).plot()"
   ]
  },
  {
   "cell_type": "code",
   "execution_count": null,
   "metadata": {},
   "outputs": [],
   "source": []
  },
  {
   "cell_type": "code",
   "execution_count": 28,
   "metadata": {
    "colab": {
     "base_uri": "https://localhost:8080/",
     "height": 2289
    },
    "colab_type": "code",
    "id": "pavIfJLYyp0c",
    "outputId": "664db5f5-5566-44d2-ae5b-f8f2fc31c844"
   },
   "outputs": [
    {
     "data": {
      "text/plain": [
       "<matplotlib.axes._subplots.AxesSubplot at 0x1a26768048>"
      ]
     },
     "execution_count": 28,
     "metadata": {},
     "output_type": "execute_result"
    },
    {
     "data": {
      "image/png": "[encoded data removed]",
      "text/plain": [
       "<Figure size 432x288 with 1 Axes>"
      ]
     },
     "metadata": {
      "needs_background": "light"
     },
     "output_type": "display_data"
    }
   ],
   "source": [
    "long_cut = pd.cut(train['long'],10)\n",
    "train.groupby(long_cut)['price'].mean().sort_index().plot(kind='bar')"
   ]
  },
  {
   "cell_type": "markdown",
   "metadata": {
    "colab_type": "text",
    "id": "ER_f2oHXYSNK"
   },
   "source": [
    "### 1.2.7 other : id, floors"
   ]
  },
  {
   "cell_type": "markdown",
   "metadata": {
    "colab_type": "text",
    "id": "68MI7mH1_Av_"
   },
   "source": [
    "# 2 Feature Engineering"
   ]
  },
  {
   "cell_type": "markdown",
   "metadata": {
    "colab_type": "text",
    "id": "1-HeBhw1_A08"
   },
   "source": [
    "## 2.1 Base"
   ]
  },
  {
   "cell_type": "markdown",
   "metadata": {
    "colab_type": "text",
    "id": "EmMukn38Q09m"
   },
   "source": [
    "### 2.1.0 Global User Functions"
   ]
  },
  {
   "cell_type": "code",
   "execution_count": 82,
   "metadata": {
    "colab": {},
    "colab_type": "code",
    "id": "7ZKrrx2RRLoc"
   },
   "outputs": [],
   "source": [
    "def categorize(data,*variables):\n",
    "  for x in variables:\n",
    "    data[x] = data.astype('category')\n",
    "    data = pd.concat([data,pd.get_dummies(data[x],prefix=x,drop_first=True)], axis=1)\n",
    "    data = data.drop([x],axis=1)\n",
    "  return data\n",
    "  "
   ]
  },
  {
   "cell_type": "code",
   "execution_count": 81,
   "metadata": {
    "colab": {},
    "colab_type": "code",
    "id": "OheKcvLaRLh3"
   },
   "outputs": [],
   "source": [
    "def logarize(data,*variables):\n",
    "  for x in variables :\n",
    "    data['log_{}'.format(x)] = np.log(df_all[x])\n",
    "    data.drop(x,axis=1,inplace=True)\n",
    "  return data"
   ]
  },
  {
   "cell_type": "code",
   "execution_count": 77,
   "metadata": {
    "colab": {},
    "colab_type": "code",
    "id": "L1z-8AT-RLa3"
   },
   "outputs": [],
   "source": [
    "def binarize(data,*variables):\n",
    "  for x in variables :\n",
    "    data['{}_binarized'.format(x)] = [(0 if x== 0 else 1) for x in data[x]]\n",
    "    data.drop([x], axis=1, inplace = True)\n",
    "  return data"
   ]
  },
  {
   "cell_type": "code",
   "execution_count": 79,
   "metadata": {
    "colab": {},
    "colab_type": "code",
    "id": "JvyWhbMIRLUn"
   },
   "outputs": [],
   "source": [
    "def standardize(data, *variables):\n",
    "  for x in variables:\n",
    "    data['{}_standardized'.format(x)] = minmax_scale(data[x])\n",
    "    data.drop([x],axis=1,inplace=True)\n",
    "  return data"
   ]
  },
  {
   "cell_type": "code",
   "execution_count": 53,
   "metadata": {
    "colab": {},
    "colab_type": "code",
    "id": "002J6fg6RLOG"
   },
   "outputs": [],
   "source": [
    "def pricehist(data, x, type):\n",
    "    data = data[data['price'].isnull()==False] #If the dataset is concated with train and test datas, we sholud get rid of test data which don't have target feature('price')\n",
    "    if data[x].nunique() > 30:\n",
    "        data.groupby(pd.cut(data[x],30))['price'].mean().sort_index().plot(kind=type,color=(0.2,0.4,0.6,0.6))\n",
    "    else :\n",
    "        data.groupby([x])['price'].mean().sort_index().plot(kind=type,color=(0.2,0.4,0.6,0.6))\n",
    "\n",
    "  "
   ]
  },
  {
   "cell_type": "code",
   "execution_count": 0,
   "metadata": {
    "colab": {},
    "colab_type": "code",
    "id": "45poLgykvqWQ"
   },
   "outputs": [],
   "source": [
    "def pricehist2(data, x):\n",
    "  data = data[data['price'].isnull()==False] #If the dataset is concated with train and test datas, we sholud get rid of test data which don't have target feature('price')\n",
    "  data.groupby([x])['price'].mean().sort_index().plot(kind='line',color=(0.2,0.4,0.6,0.6))\n",
    "\n"
   ]
  },
  {
   "cell_type": "code",
   "execution_count": 0,
   "metadata": {
    "colab": {},
    "colab_type": "code",
    "id": "P94zpVAjwI6v"
   },
   "outputs": [],
   "source": [
    "def pricehist3(df_all,x):\n",
    "    df_train = df_all[df_all['price'].isnull()==False]\n",
    "    df_train.groupby([x])['price'].mean().sort_index().plot(kind='line',color=(0.2,0.4,0.6,0.6))"
   ]
  },
  {
   "cell_type": "code",
   "execution_count": 80,
   "metadata": {
    "colab": {},
    "colab_type": "code",
    "id": "K_VOr15cRLFN"
   },
   "outputs": [],
   "source": [
    "def quantilecut(data,x,n) :\n",
    "  data['{}_cut'.format(x)] = pd.qcut(data[x],25,labels = ['1','2','3','4','5','6','7','8','9','10','11','12','13','14','15','16','17','18','19','20','21','22','23','24','25'])\n",
    "  data = categorize(data,'{}_cut'.format(x))\n",
    "  return data"
   ]
  },
  {
   "cell_type": "code",
   "execution_count": 0,
   "metadata": {
    "colab": {},
    "colab_type": "code",
    "id": "KsM52NbcYIP2"
   },
   "outputs": [],
   "source": [
    "def grouping(data, x, n):\n",
    "  return pd.cut(data[x],n)"
   ]
  },
  {
   "cell_type": "code",
   "execution_count": 97,
   "metadata": {},
   "outputs": [
    {
     "data": {
      "text/html": [
       "<div>\n",
       "<style scoped>\n",
       "    .dataframe tbody tr th:only-of-type {\n",
       "        vertical-align: middle;\n",
       "    }\n",
       "\n",
       "    .dataframe tbody tr th {\n",
       "        vertical-align: top;\n",
       "    }\n",
       "\n",
       "    .dataframe thead th {\n",
       "        text-align: right;\n",
       "    }\n",
       "</style>\n",
       "<table border=\"1\" class=\"dataframe\">\n",
       "  <thead>\n",
       "    <tr style=\"text-align: right;\">\n",
       "      <th></th>\n",
       "      <th>bathrooms</th>\n",
       "      <th>bedrooms</th>\n",
       "      <th>condition</th>\n",
       "      <th>date</th>\n",
       "      <th>floors</th>\n",
       "      <th>grade</th>\n",
       "      <th>id</th>\n",
       "      <th>lat</th>\n",
       "      <th>long</th>\n",
       "      <th>price</th>\n",
       "      <th>...</th>\n",
       "      <th>sqft_living_cut_5.25</th>\n",
       "      <th>sqft_living_cut_5.5</th>\n",
       "      <th>sqft_living_cut_5.75</th>\n",
       "      <th>sqft_living_cut_6.0</th>\n",
       "      <th>sqft_living_cut_6.25</th>\n",
       "      <th>sqft_living_cut_6.5</th>\n",
       "      <th>sqft_living_cut_6.75</th>\n",
       "      <th>sqft_living_cut_7.5</th>\n",
       "      <th>sqft_living_cut_7.75</th>\n",
       "      <th>sqft_living_cut_8.0</th>\n",
       "    </tr>\n",
       "  </thead>\n",
       "  <tbody>\n",
       "    <tr>\n",
       "      <th>0</th>\n",
       "      <td>1.00</td>\n",
       "      <td>3</td>\n",
       "      <td>3</td>\n",
       "      <td>20141013</td>\n",
       "      <td>1.0</td>\n",
       "      <td>7</td>\n",
       "      <td>0</td>\n",
       "      <td>47.5112</td>\n",
       "      <td>-122.257</td>\n",
       "      <td>221900.0</td>\n",
       "      <td>...</td>\n",
       "      <td>0</td>\n",
       "      <td>0</td>\n",
       "      <td>0</td>\n",
       "      <td>0</td>\n",
       "      <td>0</td>\n",
       "      <td>0</td>\n",
       "      <td>0</td>\n",
       "      <td>0</td>\n",
       "      <td>0</td>\n",
       "      <td>0</td>\n",
       "    </tr>\n",
       "    <tr>\n",
       "      <th>1</th>\n",
       "      <td>1.00</td>\n",
       "      <td>2</td>\n",
       "      <td>3</td>\n",
       "      <td>20150225</td>\n",
       "      <td>1.0</td>\n",
       "      <td>6</td>\n",
       "      <td>1</td>\n",
       "      <td>47.7379</td>\n",
       "      <td>-122.233</td>\n",
       "      <td>180000.0</td>\n",
       "      <td>...</td>\n",
       "      <td>0</td>\n",
       "      <td>0</td>\n",
       "      <td>0</td>\n",
       "      <td>0</td>\n",
       "      <td>0</td>\n",
       "      <td>0</td>\n",
       "      <td>0</td>\n",
       "      <td>0</td>\n",
       "      <td>0</td>\n",
       "      <td>0</td>\n",
       "    </tr>\n",
       "    <tr>\n",
       "      <th>2</th>\n",
       "      <td>2.00</td>\n",
       "      <td>3</td>\n",
       "      <td>3</td>\n",
       "      <td>20150218</td>\n",
       "      <td>1.0</td>\n",
       "      <td>8</td>\n",
       "      <td>2</td>\n",
       "      <td>47.6168</td>\n",
       "      <td>-122.045</td>\n",
       "      <td>510000.0</td>\n",
       "      <td>...</td>\n",
       "      <td>0</td>\n",
       "      <td>0</td>\n",
       "      <td>0</td>\n",
       "      <td>0</td>\n",
       "      <td>0</td>\n",
       "      <td>0</td>\n",
       "      <td>0</td>\n",
       "      <td>0</td>\n",
       "      <td>0</td>\n",
       "      <td>0</td>\n",
       "    </tr>\n",
       "    <tr>\n",
       "      <th>3</th>\n",
       "      <td>2.25</td>\n",
       "      <td>3</td>\n",
       "      <td>3</td>\n",
       "      <td>20140627</td>\n",
       "      <td>2.0</td>\n",
       "      <td>7</td>\n",
       "      <td>3</td>\n",
       "      <td>47.3097</td>\n",
       "      <td>-122.327</td>\n",
       "      <td>257500.0</td>\n",
       "      <td>...</td>\n",
       "      <td>0</td>\n",
       "      <td>0</td>\n",
       "      <td>0</td>\n",
       "      <td>0</td>\n",
       "      <td>0</td>\n",
       "      <td>0</td>\n",
       "      <td>0</td>\n",
       "      <td>0</td>\n",
       "      <td>0</td>\n",
       "      <td>0</td>\n",
       "    </tr>\n",
       "    <tr>\n",
       "      <th>4</th>\n",
       "      <td>1.50</td>\n",
       "      <td>3</td>\n",
       "      <td>3</td>\n",
       "      <td>20150115</td>\n",
       "      <td>1.0</td>\n",
       "      <td>7</td>\n",
       "      <td>4</td>\n",
       "      <td>47.4095</td>\n",
       "      <td>-122.315</td>\n",
       "      <td>291850.0</td>\n",
       "      <td>...</td>\n",
       "      <td>0</td>\n",
       "      <td>0</td>\n",
       "      <td>0</td>\n",
       "      <td>0</td>\n",
       "      <td>0</td>\n",
       "      <td>0</td>\n",
       "      <td>0</td>\n",
       "      <td>0</td>\n",
       "      <td>0</td>\n",
       "      <td>0</td>\n",
       "    </tr>\n",
       "    <tr>\n",
       "      <th>5</th>\n",
       "      <td>2.50</td>\n",
       "      <td>3</td>\n",
       "      <td>3</td>\n",
       "      <td>20150403</td>\n",
       "      <td>1.0</td>\n",
       "      <td>8</td>\n",
       "      <td>5</td>\n",
       "      <td>47.6007</td>\n",
       "      <td>-122.145</td>\n",
       "      <td>662500.0</td>\n",
       "      <td>...</td>\n",
       "      <td>0</td>\n",
       "      <td>0</td>\n",
       "      <td>0</td>\n",
       "      <td>0</td>\n",
       "      <td>0</td>\n",
       "      <td>0</td>\n",
       "      <td>0</td>\n",
       "      <td>0</td>\n",
       "      <td>0</td>\n",
       "      <td>0</td>\n",
       "    </tr>\n",
       "    <tr>\n",
       "      <th>6</th>\n",
       "      <td>1.00</td>\n",
       "      <td>2</td>\n",
       "      <td>4</td>\n",
       "      <td>20140527</td>\n",
       "      <td>1.0</td>\n",
       "      <td>7</td>\n",
       "      <td>6</td>\n",
       "      <td>47.6900</td>\n",
       "      <td>-122.292</td>\n",
       "      <td>468000.0</td>\n",
       "      <td>...</td>\n",
       "      <td>0</td>\n",
       "      <td>0</td>\n",
       "      <td>0</td>\n",
       "      <td>0</td>\n",
       "      <td>0</td>\n",
       "      <td>0</td>\n",
       "      <td>0</td>\n",
       "      <td>0</td>\n",
       "      <td>0</td>\n",
       "      <td>0</td>\n",
       "    </tr>\n",
       "    <tr>\n",
       "      <th>7</th>\n",
       "      <td>1.00</td>\n",
       "      <td>3</td>\n",
       "      <td>4</td>\n",
       "      <td>20140528</td>\n",
       "      <td>1.5</td>\n",
       "      <td>7</td>\n",
       "      <td>7</td>\n",
       "      <td>47.7558</td>\n",
       "      <td>-122.229</td>\n",
       "      <td>310000.0</td>\n",
       "      <td>...</td>\n",
       "      <td>0</td>\n",
       "      <td>0</td>\n",
       "      <td>0</td>\n",
       "      <td>0</td>\n",
       "      <td>0</td>\n",
       "      <td>0</td>\n",
       "      <td>0</td>\n",
       "      <td>0</td>\n",
       "      <td>0</td>\n",
       "      <td>0</td>\n",
       "    </tr>\n",
       "    <tr>\n",
       "      <th>8</th>\n",
       "      <td>1.75</td>\n",
       "      <td>3</td>\n",
       "      <td>4</td>\n",
       "      <td>20141007</td>\n",
       "      <td>1.0</td>\n",
       "      <td>7</td>\n",
       "      <td>8</td>\n",
       "      <td>47.6127</td>\n",
       "      <td>-122.045</td>\n",
       "      <td>400000.0</td>\n",
       "      <td>...</td>\n",
       "      <td>0</td>\n",
       "      <td>0</td>\n",
       "      <td>0</td>\n",
       "      <td>0</td>\n",
       "      <td>0</td>\n",
       "      <td>0</td>\n",
       "      <td>0</td>\n",
       "      <td>0</td>\n",
       "      <td>0</td>\n",
       "      <td>0</td>\n",
       "    </tr>\n",
       "    <tr>\n",
       "      <th>9</th>\n",
       "      <td>2.00</td>\n",
       "      <td>5</td>\n",
       "      <td>3</td>\n",
       "      <td>20150312</td>\n",
       "      <td>1.5</td>\n",
       "      <td>7</td>\n",
       "      <td>9</td>\n",
       "      <td>47.6700</td>\n",
       "      <td>-122.394</td>\n",
       "      <td>530000.0</td>\n",
       "      <td>...</td>\n",
       "      <td>0</td>\n",
       "      <td>0</td>\n",
       "      <td>0</td>\n",
       "      <td>0</td>\n",
       "      <td>0</td>\n",
       "      <td>0</td>\n",
       "      <td>0</td>\n",
       "      <td>0</td>\n",
       "      <td>0</td>\n",
       "      <td>0</td>\n",
       "    </tr>\n",
       "    <tr>\n",
       "      <th>10</th>\n",
       "      <td>3.00</td>\n",
       "      <td>4</td>\n",
       "      <td>3</td>\n",
       "      <td>20150124</td>\n",
       "      <td>2.0</td>\n",
       "      <td>9</td>\n",
       "      <td>10</td>\n",
       "      <td>47.5714</td>\n",
       "      <td>-122.375</td>\n",
       "      <td>650000.0</td>\n",
       "      <td>...</td>\n",
       "      <td>0</td>\n",
       "      <td>0</td>\n",
       "      <td>0</td>\n",
       "      <td>0</td>\n",
       "      <td>0</td>\n",
       "      <td>0</td>\n",
       "      <td>0</td>\n",
       "      <td>0</td>\n",
       "      <td>0</td>\n",
       "      <td>0</td>\n",
       "    </tr>\n",
       "    <tr>\n",
       "      <th>11</th>\n",
       "      <td>2.00</td>\n",
       "      <td>3</td>\n",
       "      <td>3</td>\n",
       "      <td>20140731</td>\n",
       "      <td>2.0</td>\n",
       "      <td>7</td>\n",
       "      <td>11</td>\n",
       "      <td>47.7277</td>\n",
       "      <td>-121.962</td>\n",
       "      <td>395000.0</td>\n",
       "      <td>...</td>\n",
       "      <td>0</td>\n",
       "      <td>0</td>\n",
       "      <td>0</td>\n",
       "      <td>0</td>\n",
       "      <td>0</td>\n",
       "      <td>0</td>\n",
       "      <td>0</td>\n",
       "      <td>0</td>\n",
       "      <td>0</td>\n",
       "      <td>0</td>\n",
       "    </tr>\n",
       "    <tr>\n",
       "      <th>12</th>\n",
       "      <td>1.00</td>\n",
       "      <td>4</td>\n",
       "      <td>4</td>\n",
       "      <td>20140529</td>\n",
       "      <td>1.5</td>\n",
       "      <td>7</td>\n",
       "      <td>12</td>\n",
       "      <td>47.6648</td>\n",
       "      <td>-122.343</td>\n",
       "      <td>485000.0</td>\n",
       "      <td>...</td>\n",
       "      <td>0</td>\n",
       "      <td>0</td>\n",
       "      <td>0</td>\n",
       "      <td>0</td>\n",
       "      <td>0</td>\n",
       "      <td>0</td>\n",
       "      <td>0</td>\n",
       "      <td>0</td>\n",
       "      <td>0</td>\n",
       "      <td>0</td>\n",
       "    </tr>\n",
       "    <tr>\n",
       "      <th>13</th>\n",
       "      <td>1.00</td>\n",
       "      <td>2</td>\n",
       "      <td>4</td>\n",
       "      <td>20141205</td>\n",
       "      <td>1.0</td>\n",
       "      <td>7</td>\n",
       "      <td>13</td>\n",
       "      <td>47.3089</td>\n",
       "      <td>-122.210</td>\n",
       "      <td>189000.0</td>\n",
       "      <td>...</td>\n",
       "      <td>0</td>\n",
       "      <td>0</td>\n",
       "      <td>0</td>\n",
       "      <td>0</td>\n",
       "      <td>0</td>\n",
       "      <td>0</td>\n",
       "      <td>0</td>\n",
       "      <td>0</td>\n",
       "      <td>0</td>\n",
       "      <td>0</td>\n",
       "    </tr>\n",
       "    <tr>\n",
       "      <th>14</th>\n",
       "      <td>1.00</td>\n",
       "      <td>3</td>\n",
       "      <td>4</td>\n",
       "      <td>20150424</td>\n",
       "      <td>1.0</td>\n",
       "      <td>7</td>\n",
       "      <td>14</td>\n",
       "      <td>47.3343</td>\n",
       "      <td>-122.306</td>\n",
       "      <td>230000.0</td>\n",
       "      <td>...</td>\n",
       "      <td>0</td>\n",
       "      <td>0</td>\n",
       "      <td>0</td>\n",
       "      <td>0</td>\n",
       "      <td>0</td>\n",
       "      <td>0</td>\n",
       "      <td>0</td>\n",
       "      <td>0</td>\n",
       "      <td>0</td>\n",
       "      <td>0</td>\n",
       "    </tr>\n",
       "    <tr>\n",
       "      <th>15</th>\n",
       "      <td>1.75</td>\n",
       "      <td>4</td>\n",
       "      <td>4</td>\n",
       "      <td>20140514</td>\n",
       "      <td>1.0</td>\n",
       "      <td>7</td>\n",
       "      <td>15</td>\n",
       "      <td>47.7025</td>\n",
       "      <td>-122.341</td>\n",
       "      <td>385000.0</td>\n",
       "      <td>...</td>\n",
       "      <td>0</td>\n",
       "      <td>0</td>\n",
       "      <td>0</td>\n",
       "      <td>0</td>\n",
       "      <td>0</td>\n",
       "      <td>0</td>\n",
       "      <td>0</td>\n",
       "      <td>0</td>\n",
       "      <td>0</td>\n",
       "      <td>0</td>\n",
       "    </tr>\n",
       "    <tr>\n",
       "      <th>16</th>\n",
       "      <td>2.75</td>\n",
       "      <td>3</td>\n",
       "      <td>3</td>\n",
       "      <td>20140826</td>\n",
       "      <td>1.0</td>\n",
       "      <td>9</td>\n",
       "      <td>16</td>\n",
       "      <td>47.5316</td>\n",
       "      <td>-122.233</td>\n",
       "      <td>2000000.0</td>\n",
       "      <td>...</td>\n",
       "      <td>0</td>\n",
       "      <td>0</td>\n",
       "      <td>0</td>\n",
       "      <td>0</td>\n",
       "      <td>0</td>\n",
       "      <td>0</td>\n",
       "      <td>0</td>\n",
       "      <td>0</td>\n",
       "      <td>0</td>\n",
       "      <td>0</td>\n",
       "    </tr>\n",
       "    <tr>\n",
       "      <th>17</th>\n",
       "      <td>1.50</td>\n",
       "      <td>2</td>\n",
       "      <td>3</td>\n",
       "      <td>20140516</td>\n",
       "      <td>1.0</td>\n",
       "      <td>7</td>\n",
       "      <td>17</td>\n",
       "      <td>47.3533</td>\n",
       "      <td>-122.166</td>\n",
       "      <td>252700.0</td>\n",
       "      <td>...</td>\n",
       "      <td>0</td>\n",
       "      <td>0</td>\n",
       "      <td>0</td>\n",
       "      <td>0</td>\n",
       "      <td>0</td>\n",
       "      <td>0</td>\n",
       "      <td>0</td>\n",
       "      <td>0</td>\n",
       "      <td>0</td>\n",
       "      <td>0</td>\n",
       "    </tr>\n",
       "    <tr>\n",
       "      <th>18</th>\n",
       "      <td>2.25</td>\n",
       "      <td>3</td>\n",
       "      <td>4</td>\n",
       "      <td>20141120</td>\n",
       "      <td>2.0</td>\n",
       "      <td>8</td>\n",
       "      <td>18</td>\n",
       "      <td>47.3739</td>\n",
       "      <td>-122.172</td>\n",
       "      <td>329000.0</td>\n",
       "      <td>...</td>\n",
       "      <td>0</td>\n",
       "      <td>0</td>\n",
       "      <td>0</td>\n",
       "      <td>0</td>\n",
       "      <td>0</td>\n",
       "      <td>0</td>\n",
       "      <td>0</td>\n",
       "      <td>0</td>\n",
       "      <td>0</td>\n",
       "      <td>0</td>\n",
       "    </tr>\n",
       "    <tr>\n",
       "      <th>19</th>\n",
       "      <td>2.00</td>\n",
       "      <td>3</td>\n",
       "      <td>5</td>\n",
       "      <td>20141103</td>\n",
       "      <td>1.5</td>\n",
       "      <td>6</td>\n",
       "      <td>19</td>\n",
       "      <td>47.3048</td>\n",
       "      <td>-122.218</td>\n",
       "      <td>233000.0</td>\n",
       "      <td>...</td>\n",
       "      <td>0</td>\n",
       "      <td>0</td>\n",
       "      <td>0</td>\n",
       "      <td>0</td>\n",
       "      <td>0</td>\n",
       "      <td>0</td>\n",
       "      <td>0</td>\n",
       "      <td>0</td>\n",
       "      <td>0</td>\n",
       "      <td>0</td>\n",
       "    </tr>\n",
       "    <tr>\n",
       "      <th>20</th>\n",
       "      <td>1.75</td>\n",
       "      <td>3</td>\n",
       "      <td>3</td>\n",
       "      <td>20140626</td>\n",
       "      <td>2.0</td>\n",
       "      <td>8</td>\n",
       "      <td>20</td>\n",
       "      <td>47.6386</td>\n",
       "      <td>-122.360</td>\n",
       "      <td>937000.0</td>\n",
       "      <td>...</td>\n",
       "      <td>0</td>\n",
       "      <td>0</td>\n",
       "      <td>0</td>\n",
       "      <td>0</td>\n",
       "      <td>0</td>\n",
       "      <td>0</td>\n",
       "      <td>0</td>\n",
       "      <td>0</td>\n",
       "      <td>0</td>\n",
       "      <td>0</td>\n",
       "    </tr>\n",
       "    <tr>\n",
       "      <th>21</th>\n",
       "      <td>1.00</td>\n",
       "      <td>3</td>\n",
       "      <td>5</td>\n",
       "      <td>20141201</td>\n",
       "      <td>1.5</td>\n",
       "      <td>8</td>\n",
       "      <td>21</td>\n",
       "      <td>47.6221</td>\n",
       "      <td>-122.314</td>\n",
       "      <td>667000.0</td>\n",
       "      <td>...</td>\n",
       "      <td>0</td>\n",
       "      <td>0</td>\n",
       "      <td>0</td>\n",
       "      <td>0</td>\n",
       "      <td>0</td>\n",
       "      <td>0</td>\n",
       "      <td>0</td>\n",
       "      <td>0</td>\n",
       "      <td>0</td>\n",
       "      <td>0</td>\n",
       "    </tr>\n",
       "    <tr>\n",
       "      <th>22</th>\n",
       "      <td>2.50</td>\n",
       "      <td>3</td>\n",
       "      <td>3</td>\n",
       "      <td>20141110</td>\n",
       "      <td>2.0</td>\n",
       "      <td>8</td>\n",
       "      <td>22</td>\n",
       "      <td>47.5391</td>\n",
       "      <td>-122.070</td>\n",
       "      <td>580500.0</td>\n",
       "      <td>...</td>\n",
       "      <td>0</td>\n",
       "      <td>0</td>\n",
       "      <td>0</td>\n",
       "      <td>0</td>\n",
       "      <td>0</td>\n",
       "      <td>0</td>\n",
       "      <td>0</td>\n",
       "      <td>0</td>\n",
       "      <td>0</td>\n",
       "      <td>0</td>\n",
       "    </tr>\n",
       "    <tr>\n",
       "      <th>23</th>\n",
       "      <td>1.75</td>\n",
       "      <td>4</td>\n",
       "      <td>4</td>\n",
       "      <td>20140624</td>\n",
       "      <td>1.5</td>\n",
       "      <td>7</td>\n",
       "      <td>23</td>\n",
       "      <td>47.6823</td>\n",
       "      <td>-122.368</td>\n",
       "      <td>687500.0</td>\n",
       "      <td>...</td>\n",
       "      <td>0</td>\n",
       "      <td>0</td>\n",
       "      <td>0</td>\n",
       "      <td>0</td>\n",
       "      <td>0</td>\n",
       "      <td>0</td>\n",
       "      <td>0</td>\n",
       "      <td>0</td>\n",
       "      <td>0</td>\n",
       "      <td>0</td>\n",
       "    </tr>\n",
       "    <tr>\n",
       "      <th>24</th>\n",
       "      <td>1.00</td>\n",
       "      <td>3</td>\n",
       "      <td>4</td>\n",
       "      <td>20141110</td>\n",
       "      <td>1.5</td>\n",
       "      <td>8</td>\n",
       "      <td>24</td>\n",
       "      <td>47.6889</td>\n",
       "      <td>-122.375</td>\n",
       "      <td>535000.0</td>\n",
       "      <td>...</td>\n",
       "      <td>0</td>\n",
       "      <td>0</td>\n",
       "      <td>0</td>\n",
       "      <td>0</td>\n",
       "      <td>0</td>\n",
       "      <td>0</td>\n",
       "      <td>0</td>\n",
       "      <td>0</td>\n",
       "      <td>0</td>\n",
       "      <td>0</td>\n",
       "    </tr>\n",
       "    <tr>\n",
       "      <th>25</th>\n",
       "      <td>2.75</td>\n",
       "      <td>4</td>\n",
       "      <td>3</td>\n",
       "      <td>20141203</td>\n",
       "      <td>1.0</td>\n",
       "      <td>7</td>\n",
       "      <td>25</td>\n",
       "      <td>47.4276</td>\n",
       "      <td>-122.157</td>\n",
       "      <td>322500.0</td>\n",
       "      <td>...</td>\n",
       "      <td>0</td>\n",
       "      <td>0</td>\n",
       "      <td>0</td>\n",
       "      <td>0</td>\n",
       "      <td>0</td>\n",
       "      <td>0</td>\n",
       "      <td>0</td>\n",
       "      <td>0</td>\n",
       "      <td>0</td>\n",
       "      <td>0</td>\n",
       "    </tr>\n",
       "    <tr>\n",
       "      <th>26</th>\n",
       "      <td>2.50</td>\n",
       "      <td>3</td>\n",
       "      <td>3</td>\n",
       "      <td>20140613</td>\n",
       "      <td>1.5</td>\n",
       "      <td>8</td>\n",
       "      <td>26</td>\n",
       "      <td>47.6827</td>\n",
       "      <td>-122.310</td>\n",
       "      <td>696000.0</td>\n",
       "      <td>...</td>\n",
       "      <td>0</td>\n",
       "      <td>0</td>\n",
       "      <td>0</td>\n",
       "      <td>0</td>\n",
       "      <td>0</td>\n",
       "      <td>0</td>\n",
       "      <td>0</td>\n",
       "      <td>0</td>\n",
       "      <td>0</td>\n",
       "      <td>0</td>\n",
       "    </tr>\n",
       "    <tr>\n",
       "      <th>27</th>\n",
       "      <td>2.00</td>\n",
       "      <td>4</td>\n",
       "      <td>4</td>\n",
       "      <td>20141230</td>\n",
       "      <td>2.0</td>\n",
       "      <td>8</td>\n",
       "      <td>27</td>\n",
       "      <td>47.6702</td>\n",
       "      <td>-122.362</td>\n",
       "      <td>640000.0</td>\n",
       "      <td>...</td>\n",
       "      <td>0</td>\n",
       "      <td>0</td>\n",
       "      <td>0</td>\n",
       "      <td>0</td>\n",
       "      <td>0</td>\n",
       "      <td>0</td>\n",
       "      <td>0</td>\n",
       "      <td>0</td>\n",
       "      <td>0</td>\n",
       "      <td>0</td>\n",
       "    </tr>\n",
       "    <tr>\n",
       "      <th>28</th>\n",
       "      <td>1.00</td>\n",
       "      <td>4</td>\n",
       "      <td>2</td>\n",
       "      <td>20150213</td>\n",
       "      <td>1.0</td>\n",
       "      <td>7</td>\n",
       "      <td>28</td>\n",
       "      <td>47.3341</td>\n",
       "      <td>-122.282</td>\n",
       "      <td>240000.0</td>\n",
       "      <td>...</td>\n",
       "      <td>0</td>\n",
       "      <td>0</td>\n",
       "      <td>0</td>\n",
       "      <td>0</td>\n",
       "      <td>0</td>\n",
       "      <td>0</td>\n",
       "      <td>0</td>\n",
       "      <td>0</td>\n",
       "      <td>0</td>\n",
       "      <td>0</td>\n",
       "    </tr>\n",
       "    <tr>\n",
       "      <th>29</th>\n",
       "      <td>2.50</td>\n",
       "      <td>4</td>\n",
       "      <td>3</td>\n",
       "      <td>20140620</td>\n",
       "      <td>2.0</td>\n",
       "      <td>8</td>\n",
       "      <td>29</td>\n",
       "      <td>47.5301</td>\n",
       "      <td>-122.180</td>\n",
       "      <td>605000.0</td>\n",
       "      <td>...</td>\n",
       "      <td>0</td>\n",
       "      <td>0</td>\n",
       "      <td>0</td>\n",
       "      <td>0</td>\n",
       "      <td>0</td>\n",
       "      <td>0</td>\n",
       "      <td>0</td>\n",
       "      <td>0</td>\n",
       "      <td>0</td>\n",
       "      <td>0</td>\n",
       "    </tr>\n",
       "    <tr>\n",
       "      <th>...</th>\n",
       "      <td>...</td>\n",
       "      <td>...</td>\n",
       "      <td>...</td>\n",
       "      <td>...</td>\n",
       "      <td>...</td>\n",
       "      <td>...</td>\n",
       "      <td>...</td>\n",
       "      <td>...</td>\n",
       "      <td>...</td>\n",
       "      <td>...</td>\n",
       "      <td>...</td>\n",
       "      <td>...</td>\n",
       "      <td>...</td>\n",
       "      <td>...</td>\n",
       "      <td>...</td>\n",
       "      <td>...</td>\n",
       "      <td>...</td>\n",
       "      <td>...</td>\n",
       "      <td>...</td>\n",
       "      <td>...</td>\n",
       "      <td>...</td>\n",
       "    </tr>\n",
       "    <tr>\n",
       "      <th>6438</th>\n",
       "      <td>2.50</td>\n",
       "      <td>3</td>\n",
       "      <td>3</td>\n",
       "      <td>20140801</td>\n",
       "      <td>2.5</td>\n",
       "      <td>8</td>\n",
       "      <td>21473</td>\n",
       "      <td>47.6515</td>\n",
       "      <td>-122.384</td>\n",
       "      <td>NaN</td>\n",
       "      <td>...</td>\n",
       "      <td>0</td>\n",
       "      <td>0</td>\n",
       "      <td>0</td>\n",
       "      <td>0</td>\n",
       "      <td>0</td>\n",
       "      <td>0</td>\n",
       "      <td>0</td>\n",
       "      <td>0</td>\n",
       "      <td>0</td>\n",
       "      <td>0</td>\n",
       "    </tr>\n",
       "    <tr>\n",
       "      <th>6439</th>\n",
       "      <td>3.50</td>\n",
       "      <td>3</td>\n",
       "      <td>3</td>\n",
       "      <td>20140617</td>\n",
       "      <td>2.0</td>\n",
       "      <td>10</td>\n",
       "      <td>21474</td>\n",
       "      <td>47.6791</td>\n",
       "      <td>-122.354</td>\n",
       "      <td>NaN</td>\n",
       "      <td>...</td>\n",
       "      <td>0</td>\n",
       "      <td>0</td>\n",
       "      <td>0</td>\n",
       "      <td>0</td>\n",
       "      <td>0</td>\n",
       "      <td>0</td>\n",
       "      <td>0</td>\n",
       "      <td>0</td>\n",
       "      <td>0</td>\n",
       "      <td>0</td>\n",
       "    </tr>\n",
       "    <tr>\n",
       "      <th>6440</th>\n",
       "      <td>6.50</td>\n",
       "      <td>5</td>\n",
       "      <td>3</td>\n",
       "      <td>20140509</td>\n",
       "      <td>2.0</td>\n",
       "      <td>12</td>\n",
       "      <td>21475</td>\n",
       "      <td>47.5371</td>\n",
       "      <td>-121.982</td>\n",
       "      <td>NaN</td>\n",
       "      <td>...</td>\n",
       "      <td>0</td>\n",
       "      <td>0</td>\n",
       "      <td>0</td>\n",
       "      <td>0</td>\n",
       "      <td>0</td>\n",
       "      <td>1</td>\n",
       "      <td>0</td>\n",
       "      <td>0</td>\n",
       "      <td>0</td>\n",
       "      <td>0</td>\n",
       "    </tr>\n",
       "    <tr>\n",
       "      <th>6441</th>\n",
       "      <td>2.00</td>\n",
       "      <td>2</td>\n",
       "      <td>3</td>\n",
       "      <td>20150331</td>\n",
       "      <td>3.0</td>\n",
       "      <td>7</td>\n",
       "      <td>21476</td>\n",
       "      <td>47.5494</td>\n",
       "      <td>-122.388</td>\n",
       "      <td>NaN</td>\n",
       "      <td>...</td>\n",
       "      <td>0</td>\n",
       "      <td>0</td>\n",
       "      <td>0</td>\n",
       "      <td>0</td>\n",
       "      <td>0</td>\n",
       "      <td>0</td>\n",
       "      <td>0</td>\n",
       "      <td>0</td>\n",
       "      <td>0</td>\n",
       "      <td>0</td>\n",
       "    </tr>\n",
       "    <tr>\n",
       "      <th>6442</th>\n",
       "      <td>3.75</td>\n",
       "      <td>4</td>\n",
       "      <td>3</td>\n",
       "      <td>20150227</td>\n",
       "      <td>2.0</td>\n",
       "      <td>11</td>\n",
       "      <td>21477</td>\n",
       "      <td>47.6351</td>\n",
       "      <td>-122.236</td>\n",
       "      <td>NaN</td>\n",
       "      <td>...</td>\n",
       "      <td>0</td>\n",
       "      <td>0</td>\n",
       "      <td>0</td>\n",
       "      <td>0</td>\n",
       "      <td>0</td>\n",
       "      <td>0</td>\n",
       "      <td>0</td>\n",
       "      <td>0</td>\n",
       "      <td>0</td>\n",
       "      <td>0</td>\n",
       "    </tr>\n",
       "    <tr>\n",
       "      <th>6443</th>\n",
       "      <td>3.25</td>\n",
       "      <td>3</td>\n",
       "      <td>3</td>\n",
       "      <td>20140711</td>\n",
       "      <td>3.0</td>\n",
       "      <td>8</td>\n",
       "      <td>21478</td>\n",
       "      <td>47.6617</td>\n",
       "      <td>-122.349</td>\n",
       "      <td>NaN</td>\n",
       "      <td>...</td>\n",
       "      <td>0</td>\n",
       "      <td>0</td>\n",
       "      <td>0</td>\n",
       "      <td>0</td>\n",
       "      <td>0</td>\n",
       "      <td>0</td>\n",
       "      <td>0</td>\n",
       "      <td>0</td>\n",
       "      <td>0</td>\n",
       "      <td>0</td>\n",
       "    </tr>\n",
       "    <tr>\n",
       "      <th>6444</th>\n",
       "      <td>4.00</td>\n",
       "      <td>4</td>\n",
       "      <td>3</td>\n",
       "      <td>20140825</td>\n",
       "      <td>2.0</td>\n",
       "      <td>10</td>\n",
       "      <td>21479</td>\n",
       "      <td>47.6575</td>\n",
       "      <td>-122.006</td>\n",
       "      <td>NaN</td>\n",
       "      <td>...</td>\n",
       "      <td>0</td>\n",
       "      <td>0</td>\n",
       "      <td>0</td>\n",
       "      <td>0</td>\n",
       "      <td>0</td>\n",
       "      <td>0</td>\n",
       "      <td>0</td>\n",
       "      <td>0</td>\n",
       "      <td>0</td>\n",
       "      <td>0</td>\n",
       "    </tr>\n",
       "    <tr>\n",
       "      <th>6445</th>\n",
       "      <td>3.50</td>\n",
       "      <td>5</td>\n",
       "      <td>3</td>\n",
       "      <td>20141209</td>\n",
       "      <td>2.0</td>\n",
       "      <td>10</td>\n",
       "      <td>21480</td>\n",
       "      <td>47.6249</td>\n",
       "      <td>-122.090</td>\n",
       "      <td>NaN</td>\n",
       "      <td>...</td>\n",
       "      <td>0</td>\n",
       "      <td>0</td>\n",
       "      <td>0</td>\n",
       "      <td>0</td>\n",
       "      <td>0</td>\n",
       "      <td>0</td>\n",
       "      <td>0</td>\n",
       "      <td>0</td>\n",
       "      <td>0</td>\n",
       "      <td>0</td>\n",
       "    </tr>\n",
       "    <tr>\n",
       "      <th>6446</th>\n",
       "      <td>2.50</td>\n",
       "      <td>3</td>\n",
       "      <td>3</td>\n",
       "      <td>20150217</td>\n",
       "      <td>3.0</td>\n",
       "      <td>8</td>\n",
       "      <td>21481</td>\n",
       "      <td>47.6021</td>\n",
       "      <td>-122.294</td>\n",
       "      <td>NaN</td>\n",
       "      <td>...</td>\n",
       "      <td>0</td>\n",
       "      <td>0</td>\n",
       "      <td>0</td>\n",
       "      <td>0</td>\n",
       "      <td>0</td>\n",
       "      <td>0</td>\n",
       "      <td>0</td>\n",
       "      <td>0</td>\n",
       "      <td>0</td>\n",
       "      <td>0</td>\n",
       "    </tr>\n",
       "    <tr>\n",
       "      <th>6447</th>\n",
       "      <td>1.75</td>\n",
       "      <td>3</td>\n",
       "      <td>3</td>\n",
       "      <td>20140811</td>\n",
       "      <td>3.0</td>\n",
       "      <td>8</td>\n",
       "      <td>21482</td>\n",
       "      <td>47.6636</td>\n",
       "      <td>-122.319</td>\n",
       "      <td>NaN</td>\n",
       "      <td>...</td>\n",
       "      <td>0</td>\n",
       "      <td>0</td>\n",
       "      <td>0</td>\n",
       "      <td>0</td>\n",
       "      <td>0</td>\n",
       "      <td>0</td>\n",
       "      <td>0</td>\n",
       "      <td>0</td>\n",
       "      <td>0</td>\n",
       "      <td>0</td>\n",
       "    </tr>\n",
       "    <tr>\n",
       "      <th>6448</th>\n",
       "      <td>2.50</td>\n",
       "      <td>4</td>\n",
       "      <td>3</td>\n",
       "      <td>20141015</td>\n",
       "      <td>2.0</td>\n",
       "      <td>7</td>\n",
       "      <td>21483</td>\n",
       "      <td>47.2815</td>\n",
       "      <td>-122.356</td>\n",
       "      <td>NaN</td>\n",
       "      <td>...</td>\n",
       "      <td>0</td>\n",
       "      <td>0</td>\n",
       "      <td>0</td>\n",
       "      <td>0</td>\n",
       "      <td>0</td>\n",
       "      <td>0</td>\n",
       "      <td>0</td>\n",
       "      <td>0</td>\n",
       "      <td>0</td>\n",
       "      <td>0</td>\n",
       "    </tr>\n",
       "    <tr>\n",
       "      <th>6449</th>\n",
       "      <td>2.50</td>\n",
       "      <td>3</td>\n",
       "      <td>3</td>\n",
       "      <td>20140707</td>\n",
       "      <td>2.0</td>\n",
       "      <td>8</td>\n",
       "      <td>21484</td>\n",
       "      <td>47.4945</td>\n",
       "      <td>-122.149</td>\n",
       "      <td>NaN</td>\n",
       "      <td>...</td>\n",
       "      <td>0</td>\n",
       "      <td>0</td>\n",
       "      <td>0</td>\n",
       "      <td>0</td>\n",
       "      <td>0</td>\n",
       "      <td>0</td>\n",
       "      <td>0</td>\n",
       "      <td>0</td>\n",
       "      <td>0</td>\n",
       "      <td>0</td>\n",
       "    </tr>\n",
       "    <tr>\n",
       "      <th>6450</th>\n",
       "      <td>2.00</td>\n",
       "      <td>3</td>\n",
       "      <td>3</td>\n",
       "      <td>20140729</td>\n",
       "      <td>2.0</td>\n",
       "      <td>7</td>\n",
       "      <td>21485</td>\n",
       "      <td>47.5262</td>\n",
       "      <td>-122.361</td>\n",
       "      <td>NaN</td>\n",
       "      <td>...</td>\n",
       "      <td>0</td>\n",
       "      <td>0</td>\n",
       "      <td>0</td>\n",
       "      <td>0</td>\n",
       "      <td>0</td>\n",
       "      <td>0</td>\n",
       "      <td>0</td>\n",
       "      <td>0</td>\n",
       "      <td>0</td>\n",
       "      <td>0</td>\n",
       "    </tr>\n",
       "    <tr>\n",
       "      <th>6451</th>\n",
       "      <td>2.50</td>\n",
       "      <td>3</td>\n",
       "      <td>3</td>\n",
       "      <td>20150422</td>\n",
       "      <td>2.0</td>\n",
       "      <td>8</td>\n",
       "      <td>21486</td>\n",
       "      <td>47.6515</td>\n",
       "      <td>-122.375</td>\n",
       "      <td>NaN</td>\n",
       "      <td>...</td>\n",
       "      <td>0</td>\n",
       "      <td>0</td>\n",
       "      <td>0</td>\n",
       "      <td>0</td>\n",
       "      <td>0</td>\n",
       "      <td>0</td>\n",
       "      <td>0</td>\n",
       "      <td>0</td>\n",
       "      <td>0</td>\n",
       "      <td>0</td>\n",
       "    </tr>\n",
       "    <tr>\n",
       "      <th>6452</th>\n",
       "      <td>2.50</td>\n",
       "      <td>3</td>\n",
       "      <td>3</td>\n",
       "      <td>20140820</td>\n",
       "      <td>2.0</td>\n",
       "      <td>8</td>\n",
       "      <td>21487</td>\n",
       "      <td>47.6088</td>\n",
       "      <td>-122.311</td>\n",
       "      <td>NaN</td>\n",
       "      <td>...</td>\n",
       "      <td>0</td>\n",
       "      <td>0</td>\n",
       "      <td>0</td>\n",
       "      <td>0</td>\n",
       "      <td>0</td>\n",
       "      <td>0</td>\n",
       "      <td>0</td>\n",
       "      <td>0</td>\n",
       "      <td>0</td>\n",
       "      <td>0</td>\n",
       "    </tr>\n",
       "    <tr>\n",
       "      <th>6453</th>\n",
       "      <td>3.00</td>\n",
       "      <td>4</td>\n",
       "      <td>3</td>\n",
       "      <td>20150423</td>\n",
       "      <td>2.0</td>\n",
       "      <td>8</td>\n",
       "      <td>21488</td>\n",
       "      <td>47.6397</td>\n",
       "      <td>-122.345</td>\n",
       "      <td>NaN</td>\n",
       "      <td>...</td>\n",
       "      <td>0</td>\n",
       "      <td>0</td>\n",
       "      <td>0</td>\n",
       "      <td>0</td>\n",
       "      <td>0</td>\n",
       "      <td>0</td>\n",
       "      <td>0</td>\n",
       "      <td>0</td>\n",
       "      <td>0</td>\n",
       "      <td>0</td>\n",
       "    </tr>\n",
       "    <tr>\n",
       "      <th>6454</th>\n",
       "      <td>2.50</td>\n",
       "      <td>2</td>\n",
       "      <td>3</td>\n",
       "      <td>20141015</td>\n",
       "      <td>3.0</td>\n",
       "      <td>8</td>\n",
       "      <td>21489</td>\n",
       "      <td>47.6844</td>\n",
       "      <td>-122.387</td>\n",
       "      <td>NaN</td>\n",
       "      <td>...</td>\n",
       "      <td>0</td>\n",
       "      <td>0</td>\n",
       "      <td>0</td>\n",
       "      <td>0</td>\n",
       "      <td>0</td>\n",
       "      <td>0</td>\n",
       "      <td>0</td>\n",
       "      <td>0</td>\n",
       "      <td>0</td>\n",
       "      <td>0</td>\n",
       "    </tr>\n",
       "    <tr>\n",
       "      <th>6455</th>\n",
       "      <td>1.75</td>\n",
       "      <td>3</td>\n",
       "      <td>3</td>\n",
       "      <td>20140707</td>\n",
       "      <td>2.0</td>\n",
       "      <td>8</td>\n",
       "      <td>21490</td>\n",
       "      <td>47.5637</td>\n",
       "      <td>-122.295</td>\n",
       "      <td>NaN</td>\n",
       "      <td>...</td>\n",
       "      <td>0</td>\n",
       "      <td>0</td>\n",
       "      <td>0</td>\n",
       "      <td>0</td>\n",
       "      <td>0</td>\n",
       "      <td>0</td>\n",
       "      <td>0</td>\n",
       "      <td>0</td>\n",
       "      <td>0</td>\n",
       "      <td>0</td>\n",
       "    </tr>\n",
       "    <tr>\n",
       "      <th>6456</th>\n",
       "      <td>4.50</td>\n",
       "      <td>5</td>\n",
       "      <td>3</td>\n",
       "      <td>20150107</td>\n",
       "      <td>2.0</td>\n",
       "      <td>10</td>\n",
       "      <td>21491</td>\n",
       "      <td>47.5943</td>\n",
       "      <td>-122.110</td>\n",
       "      <td>NaN</td>\n",
       "      <td>...</td>\n",
       "      <td>0</td>\n",
       "      <td>0</td>\n",
       "      <td>0</td>\n",
       "      <td>0</td>\n",
       "      <td>0</td>\n",
       "      <td>0</td>\n",
       "      <td>0</td>\n",
       "      <td>0</td>\n",
       "      <td>0</td>\n",
       "      <td>0</td>\n",
       "    </tr>\n",
       "    <tr>\n",
       "      <th>6457</th>\n",
       "      <td>3.00</td>\n",
       "      <td>3</td>\n",
       "      <td>3</td>\n",
       "      <td>20150504</td>\n",
       "      <td>2.0</td>\n",
       "      <td>9</td>\n",
       "      <td>21492</td>\n",
       "      <td>47.5184</td>\n",
       "      <td>-121.886</td>\n",
       "      <td>NaN</td>\n",
       "      <td>...</td>\n",
       "      <td>0</td>\n",
       "      <td>0</td>\n",
       "      <td>0</td>\n",
       "      <td>0</td>\n",
       "      <td>0</td>\n",
       "      <td>0</td>\n",
       "      <td>0</td>\n",
       "      <td>0</td>\n",
       "      <td>0</td>\n",
       "      <td>0</td>\n",
       "    </tr>\n",
       "    <tr>\n",
       "      <th>6458</th>\n",
       "      <td>2.50</td>\n",
       "      <td>3</td>\n",
       "      <td>3</td>\n",
       "      <td>20141202</td>\n",
       "      <td>2.0</td>\n",
       "      <td>7</td>\n",
       "      <td>21493</td>\n",
       "      <td>47.5621</td>\n",
       "      <td>-122.384</td>\n",
       "      <td>NaN</td>\n",
       "      <td>...</td>\n",
       "      <td>0</td>\n",
       "      <td>0</td>\n",
       "      <td>0</td>\n",
       "      <td>0</td>\n",
       "      <td>0</td>\n",
       "      <td>0</td>\n",
       "      <td>0</td>\n",
       "      <td>0</td>\n",
       "      <td>0</td>\n",
       "      <td>0</td>\n",
       "    </tr>\n",
       "    <tr>\n",
       "      <th>6459</th>\n",
       "      <td>2.75</td>\n",
       "      <td>4</td>\n",
       "      <td>3</td>\n",
       "      <td>20141002</td>\n",
       "      <td>2.0</td>\n",
       "      <td>8</td>\n",
       "      <td>21494</td>\n",
       "      <td>47.5001</td>\n",
       "      <td>-122.232</td>\n",
       "      <td>NaN</td>\n",
       "      <td>...</td>\n",
       "      <td>0</td>\n",
       "      <td>0</td>\n",
       "      <td>0</td>\n",
       "      <td>0</td>\n",
       "      <td>0</td>\n",
       "      <td>0</td>\n",
       "      <td>0</td>\n",
       "      <td>0</td>\n",
       "      <td>0</td>\n",
       "      <td>0</td>\n",
       "    </tr>\n",
       "    <tr>\n",
       "      <th>6460</th>\n",
       "      <td>2.25</td>\n",
       "      <td>3</td>\n",
       "      <td>3</td>\n",
       "      <td>20150416</td>\n",
       "      <td>3.0</td>\n",
       "      <td>8</td>\n",
       "      <td>21495</td>\n",
       "      <td>47.6542</td>\n",
       "      <td>-122.346</td>\n",
       "      <td>NaN</td>\n",
       "      <td>...</td>\n",
       "      <td>0</td>\n",
       "      <td>0</td>\n",
       "      <td>0</td>\n",
       "      <td>0</td>\n",
       "      <td>0</td>\n",
       "      <td>0</td>\n",
       "      <td>0</td>\n",
       "      <td>0</td>\n",
       "      <td>0</td>\n",
       "      <td>0</td>\n",
       "    </tr>\n",
       "    <tr>\n",
       "      <th>6461</th>\n",
       "      <td>2.25</td>\n",
       "      <td>2</td>\n",
       "      <td>3</td>\n",
       "      <td>20141031</td>\n",
       "      <td>3.0</td>\n",
       "      <td>8</td>\n",
       "      <td>21496</td>\n",
       "      <td>47.6533</td>\n",
       "      <td>-122.346</td>\n",
       "      <td>NaN</td>\n",
       "      <td>...</td>\n",
       "      <td>0</td>\n",
       "      <td>0</td>\n",
       "      <td>0</td>\n",
       "      <td>0</td>\n",
       "      <td>0</td>\n",
       "      <td>0</td>\n",
       "      <td>0</td>\n",
       "      <td>0</td>\n",
       "      <td>0</td>\n",
       "      <td>0</td>\n",
       "    </tr>\n",
       "    <tr>\n",
       "      <th>6462</th>\n",
       "      <td>2.50</td>\n",
       "      <td>4</td>\n",
       "      <td>3</td>\n",
       "      <td>20141013</td>\n",
       "      <td>2.0</td>\n",
       "      <td>9</td>\n",
       "      <td>21497</td>\n",
       "      <td>47.2931</td>\n",
       "      <td>-122.264</td>\n",
       "      <td>NaN</td>\n",
       "      <td>...</td>\n",
       "      <td>0</td>\n",
       "      <td>0</td>\n",
       "      <td>0</td>\n",
       "      <td>0</td>\n",
       "      <td>0</td>\n",
       "      <td>0</td>\n",
       "      <td>0</td>\n",
       "      <td>0</td>\n",
       "      <td>0</td>\n",
       "      <td>0</td>\n",
       "    </tr>\n",
       "    <tr>\n",
       "      <th>6463</th>\n",
       "      <td>1.75</td>\n",
       "      <td>3</td>\n",
       "      <td>3</td>\n",
       "      <td>20140626</td>\n",
       "      <td>1.0</td>\n",
       "      <td>6</td>\n",
       "      <td>21498</td>\n",
       "      <td>47.3095</td>\n",
       "      <td>-122.002</td>\n",
       "      <td>NaN</td>\n",
       "      <td>...</td>\n",
       "      <td>0</td>\n",
       "      <td>0</td>\n",
       "      <td>0</td>\n",
       "      <td>0</td>\n",
       "      <td>0</td>\n",
       "      <td>0</td>\n",
       "      <td>0</td>\n",
       "      <td>0</td>\n",
       "      <td>0</td>\n",
       "      <td>0</td>\n",
       "    </tr>\n",
       "    <tr>\n",
       "      <th>6464</th>\n",
       "      <td>2.00</td>\n",
       "      <td>3</td>\n",
       "      <td>3</td>\n",
       "      <td>20150126</td>\n",
       "      <td>3.0</td>\n",
       "      <td>8</td>\n",
       "      <td>21499</td>\n",
       "      <td>47.5699</td>\n",
       "      <td>-122.288</td>\n",
       "      <td>NaN</td>\n",
       "      <td>...</td>\n",
       "      <td>0</td>\n",
       "      <td>0</td>\n",
       "      <td>0</td>\n",
       "      <td>0</td>\n",
       "      <td>0</td>\n",
       "      <td>0</td>\n",
       "      <td>0</td>\n",
       "      <td>0</td>\n",
       "      <td>0</td>\n",
       "      <td>0</td>\n",
       "    </tr>\n",
       "    <tr>\n",
       "      <th>6465</th>\n",
       "      <td>2.50</td>\n",
       "      <td>3</td>\n",
       "      <td>3</td>\n",
       "      <td>20150219</td>\n",
       "      <td>2.0</td>\n",
       "      <td>8</td>\n",
       "      <td>21500</td>\n",
       "      <td>47.5773</td>\n",
       "      <td>-122.409</td>\n",
       "      <td>NaN</td>\n",
       "      <td>...</td>\n",
       "      <td>0</td>\n",
       "      <td>0</td>\n",
       "      <td>0</td>\n",
       "      <td>0</td>\n",
       "      <td>0</td>\n",
       "      <td>0</td>\n",
       "      <td>0</td>\n",
       "      <td>0</td>\n",
       "      <td>0</td>\n",
       "      <td>0</td>\n",
       "    </tr>\n",
       "    <tr>\n",
       "      <th>6466</th>\n",
       "      <td>0.75</td>\n",
       "      <td>2</td>\n",
       "      <td>3</td>\n",
       "      <td>20140623</td>\n",
       "      <td>2.0</td>\n",
       "      <td>7</td>\n",
       "      <td>21501</td>\n",
       "      <td>47.5944</td>\n",
       "      <td>-122.299</td>\n",
       "      <td>NaN</td>\n",
       "      <td>...</td>\n",
       "      <td>0</td>\n",
       "      <td>0</td>\n",
       "      <td>0</td>\n",
       "      <td>0</td>\n",
       "      <td>0</td>\n",
       "      <td>0</td>\n",
       "      <td>0</td>\n",
       "      <td>0</td>\n",
       "      <td>0</td>\n",
       "      <td>0</td>\n",
       "    </tr>\n",
       "    <tr>\n",
       "      <th>6467</th>\n",
       "      <td>2.50</td>\n",
       "      <td>3</td>\n",
       "      <td>3</td>\n",
       "      <td>20150116</td>\n",
       "      <td>2.0</td>\n",
       "      <td>8</td>\n",
       "      <td>21502</td>\n",
       "      <td>47.5345</td>\n",
       "      <td>-122.069</td>\n",
       "      <td>NaN</td>\n",
       "      <td>...</td>\n",
       "      <td>0</td>\n",
       "      <td>0</td>\n",
       "      <td>0</td>\n",
       "      <td>0</td>\n",
       "      <td>0</td>\n",
       "      <td>0</td>\n",
       "      <td>0</td>\n",
       "      <td>0</td>\n",
       "      <td>0</td>\n",
       "      <td>0</td>\n",
       "    </tr>\n",
       "  </tbody>\n",
       "</table>\n",
       "<p>21503 rows × 58 columns</p>\n",
       "</div>"
      ],
      "text/plain": [
       "      bathrooms  bedrooms  condition      date  floors  grade     id      lat  \\\n",
       "0          1.00         3          3  20141013     1.0      7      0  47.5112   \n",
       "1          1.00         2          3  20150225     1.0      6      1  47.7379   \n",
       "2          2.00         3          3  20150218     1.0      8      2  47.6168   \n",
       "3          2.25         3          3  20140627     2.0      7      3  47.3097   \n",
       "4          1.50         3          3  20150115     1.0      7      4  47.4095   \n",
       "5          2.50         3          3  20150403     1.0      8      5  47.6007   \n",
       "6          1.00         2          4  20140527     1.0      7      6  47.6900   \n",
       "7          1.00         3          4  20140528     1.5      7      7  47.7558   \n",
       "8          1.75         3          4  20141007     1.0      7      8  47.6127   \n",
       "9          2.00         5          3  20150312     1.5      7      9  47.6700   \n",
       "10         3.00         4          3  20150124     2.0      9     10  47.5714   \n",
       "11         2.00         3          3  20140731     2.0      7     11  47.7277   \n",
       "12         1.00         4          4  20140529     1.5      7     12  47.6648   \n",
       "13         1.00         2          4  20141205     1.0      7     13  47.3089   \n",
       "14         1.00         3          4  20150424     1.0      7     14  47.3343   \n",
       "15         1.75         4          4  20140514     1.0      7     15  47.7025   \n",
       "16         2.75         3          3  20140826     1.0      9     16  47.5316   \n",
       "17         1.50         2          3  20140516     1.0      7     17  47.3533   \n",
       "18         2.25         3          4  20141120     2.0      8     18  47.3739   \n",
       "19         2.00         3          5  20141103     1.5      6     19  47.3048   \n",
       "20         1.75         3          3  20140626     2.0      8     20  47.6386   \n",
       "21         1.00         3          5  20141201     1.5      8     21  47.6221   \n",
       "22         2.50         3          3  20141110     2.0      8     22  47.5391   \n",
       "23         1.75         4          4  20140624     1.5      7     23  47.6823   \n",
       "24         1.00         3          4  20141110     1.5      8     24  47.6889   \n",
       "25         2.75         4          3  20141203     1.0      7     25  47.4276   \n",
       "26         2.50         3          3  20140613     1.5      8     26  47.6827   \n",
       "27         2.00         4          4  20141230     2.0      8     27  47.6702   \n",
       "28         1.00         4          2  20150213     1.0      7     28  47.3341   \n",
       "29         2.50         4          3  20140620     2.0      8     29  47.5301   \n",
       "...         ...       ...        ...       ...     ...    ...    ...      ...   \n",
       "6438       2.50         3          3  20140801     2.5      8  21473  47.6515   \n",
       "6439       3.50         3          3  20140617     2.0     10  21474  47.6791   \n",
       "6440       6.50         5          3  20140509     2.0     12  21475  47.5371   \n",
       "6441       2.00         2          3  20150331     3.0      7  21476  47.5494   \n",
       "6442       3.75         4          3  20150227     2.0     11  21477  47.6351   \n",
       "6443       3.25         3          3  20140711     3.0      8  21478  47.6617   \n",
       "6444       4.00         4          3  20140825     2.0     10  21479  47.6575   \n",
       "6445       3.50         5          3  20141209     2.0     10  21480  47.6249   \n",
       "6446       2.50         3          3  20150217     3.0      8  21481  47.6021   \n",
       "6447       1.75         3          3  20140811     3.0      8  21482  47.6636   \n",
       "6448       2.50         4          3  20141015     2.0      7  21483  47.2815   \n",
       "6449       2.50         3          3  20140707     2.0      8  21484  47.4945   \n",
       "6450       2.00         3          3  20140729     2.0      7  21485  47.5262   \n",
       "6451       2.50         3          3  20150422     2.0      8  21486  47.6515   \n",
       "6452       2.50         3          3  20140820     2.0      8  21487  47.6088   \n",
       "6453       3.00         4          3  20150423     2.0      8  21488  47.6397   \n",
       "6454       2.50         2          3  20141015     3.0      8  21489  47.6844   \n",
       "6455       1.75         3          3  20140707     2.0      8  21490  47.5637   \n",
       "6456       4.50         5          3  20150107     2.0     10  21491  47.5943   \n",
       "6457       3.00         3          3  20150504     2.0      9  21492  47.5184   \n",
       "6458       2.50         3          3  20141202     2.0      7  21493  47.5621   \n",
       "6459       2.75         4          3  20141002     2.0      8  21494  47.5001   \n",
       "6460       2.25         3          3  20150416     3.0      8  21495  47.6542   \n",
       "6461       2.25         2          3  20141031     3.0      8  21496  47.6533   \n",
       "6462       2.50         4          3  20141013     2.0      9  21497  47.2931   \n",
       "6463       1.75         3          3  20140626     1.0      6  21498  47.3095   \n",
       "6464       2.00         3          3  20150126     3.0      8  21499  47.5699   \n",
       "6465       2.50         3          3  20150219     2.0      8  21500  47.5773   \n",
       "6466       0.75         2          3  20140623     2.0      7  21501  47.5944   \n",
       "6467       2.50         3          3  20150116     2.0      8  21502  47.5345   \n",
       "\n",
       "         long      price         ...           sqft_living_cut_5.25  \\\n",
       "0    -122.257   221900.0         ...                              0   \n",
       "1    -122.233   180000.0         ...                              0   \n",
       "2    -122.045   510000.0         ...                              0   \n",
       "3    -122.327   257500.0         ...                              0   \n",
       "4    -122.315   291850.0         ...                              0   \n",
       "5    -122.145   662500.0         ...                              0   \n",
       "6    -122.292   468000.0         ...                              0   \n",
       "7    -122.229   310000.0         ...                              0   \n",
       "8    -122.045   400000.0         ...                              0   \n",
       "9    -122.394   530000.0         ...                              0   \n",
       "10   -122.375   650000.0         ...                              0   \n",
       "11   -121.962   395000.0         ...                              0   \n",
       "12   -122.343   485000.0         ...                              0   \n",
       "13   -122.210   189000.0         ...                              0   \n",
       "14   -122.306   230000.0         ...                              0   \n",
       "15   -122.341   385000.0         ...                              0   \n",
       "16   -122.233  2000000.0         ...                              0   \n",
       "17   -122.166   252700.0         ...                              0   \n",
       "18   -122.172   329000.0         ...                              0   \n",
       "19   -122.218   233000.0         ...                              0   \n",
       "20   -122.360   937000.0         ...                              0   \n",
       "21   -122.314   667000.0         ...                              0   \n",
       "22   -122.070   580500.0         ...                              0   \n",
       "23   -122.368   687500.0         ...                              0   \n",
       "24   -122.375   535000.0         ...                              0   \n",
       "25   -122.157   322500.0         ...                              0   \n",
       "26   -122.310   696000.0         ...                              0   \n",
       "27   -122.362   640000.0         ...                              0   \n",
       "28   -122.282   240000.0         ...                              0   \n",
       "29   -122.180   605000.0         ...                              0   \n",
       "...       ...        ...         ...                            ...   \n",
       "6438 -122.384        NaN         ...                              0   \n",
       "6439 -122.354        NaN         ...                              0   \n",
       "6440 -121.982        NaN         ...                              0   \n",
       "6441 -122.388        NaN         ...                              0   \n",
       "6442 -122.236        NaN         ...                              0   \n",
       "6443 -122.349        NaN         ...                              0   \n",
       "6444 -122.006        NaN         ...                              0   \n",
       "6445 -122.090        NaN         ...                              0   \n",
       "6446 -122.294        NaN         ...                              0   \n",
       "6447 -122.319        NaN         ...                              0   \n",
       "6448 -122.356        NaN         ...                              0   \n",
       "6449 -122.149        NaN         ...                              0   \n",
       "6450 -122.361        NaN         ...                              0   \n",
       "6451 -122.375        NaN         ...                              0   \n",
       "6452 -122.311        NaN         ...                              0   \n",
       "6453 -122.345        NaN         ...                              0   \n",
       "6454 -122.387        NaN         ...                              0   \n",
       "6455 -122.295        NaN         ...                              0   \n",
       "6456 -122.110        NaN         ...                              0   \n",
       "6457 -121.886        NaN         ...                              0   \n",
       "6458 -122.384        NaN         ...                              0   \n",
       "6459 -122.232        NaN         ...                              0   \n",
       "6460 -122.346        NaN         ...                              0   \n",
       "6461 -122.346        NaN         ...                              0   \n",
       "6462 -122.264        NaN         ...                              0   \n",
       "6463 -122.002        NaN         ...                              0   \n",
       "6464 -122.288        NaN         ...                              0   \n",
       "6465 -122.409        NaN         ...                              0   \n",
       "6466 -122.299        NaN         ...                              0   \n",
       "6467 -122.069        NaN         ...                              0   \n",
       "\n",
       "      sqft_living_cut_5.5  sqft_living_cut_5.75  sqft_living_cut_6.0  \\\n",
       "0                       0                     0                    0   \n",
       "1                       0                     0                    0   \n",
       "2                       0                     0                    0   \n",
       "3                       0                     0                    0   \n",
       "4                       0                     0                    0   \n",
       "5                       0                     0                    0   \n",
       "6                       0                     0                    0   \n",
       "7                       0                     0                    0   \n",
       "8                       0                     0                    0   \n",
       "9                       0                     0                    0   \n",
       "10                      0                     0                    0   \n",
       "11                      0                     0                    0   \n",
       "12                      0                     0                    0   \n",
       "13                      0                     0                    0   \n",
       "14                      0                     0                    0   \n",
       "15                      0                     0                    0   \n",
       "16                      0                     0                    0   \n",
       "17                      0                     0                    0   \n",
       "18                      0                     0                    0   \n",
       "19                      0                     0                    0   \n",
       "20                      0                     0                    0   \n",
       "21                      0                     0                    0   \n",
       "22                      0                     0                    0   \n",
       "23                      0                     0                    0   \n",
       "24                      0                     0                    0   \n",
       "25                      0                     0                    0   \n",
       "26                      0                     0                    0   \n",
       "27                      0                     0                    0   \n",
       "28                      0                     0                    0   \n",
       "29                      0                     0                    0   \n",
       "...                   ...                   ...                  ...   \n",
       "6438                    0                     0                    0   \n",
       "6439                    0                     0                    0   \n",
       "6440                    0                     0                    0   \n",
       "6441                    0                     0                    0   \n",
       "6442                    0                     0                    0   \n",
       "6443                    0                     0                    0   \n",
       "6444                    0                     0                    0   \n",
       "6445                    0                     0                    0   \n",
       "6446                    0                     0                    0   \n",
       "6447                    0                     0                    0   \n",
       "6448                    0                     0                    0   \n",
       "6449                    0                     0                    0   \n",
       "6450                    0                     0                    0   \n",
       "6451                    0                     0                    0   \n",
       "6452                    0                     0                    0   \n",
       "6453                    0                     0                    0   \n",
       "6454                    0                     0                    0   \n",
       "6455                    0                     0                    0   \n",
       "6456                    0                     0                    0   \n",
       "6457                    0                     0                    0   \n",
       "6458                    0                     0                    0   \n",
       "6459                    0                     0                    0   \n",
       "6460                    0                     0                    0   \n",
       "6461                    0                     0                    0   \n",
       "6462                    0                     0                    0   \n",
       "6463                    0                     0                    0   \n",
       "6464                    0                     0                    0   \n",
       "6465                    0                     0                    0   \n",
       "6466                    0                     0                    0   \n",
       "6467                    0                     0                    0   \n",
       "\n",
       "      sqft_living_cut_6.25  sqft_living_cut_6.5  sqft_living_cut_6.75  \\\n",
       "0                        0                    0                     0   \n",
       "1                        0                    0                     0   \n",
       "2                        0                    0                     0   \n",
       "3                        0                    0                     0   \n",
       "4                        0                    0                     0   \n",
       "5                        0                    0                     0   \n",
       "6                        0                    0                     0   \n",
       "7                        0                    0                     0   \n",
       "8                        0                    0                     0   \n",
       "9                        0                    0                     0   \n",
       "10                       0                    0                     0   \n",
       "11                       0                    0                     0   \n",
       "12                       0                    0                     0   \n",
       "13                       0                    0                     0   \n",
       "14                       0                    0                     0   \n",
       "15                       0                    0                     0   \n",
       "16                       0                    0                     0   \n",
       "17                       0                    0                     0   \n",
       "18                       0                    0                     0   \n",
       "19                       0                    0                     0   \n",
       "20                       0                    0                     0   \n",
       "21                       0                    0                     0   \n",
       "22                       0                    0                     0   \n",
       "23                       0                    0                     0   \n",
       "24                       0                    0                     0   \n",
       "25                       0                    0                     0   \n",
       "26                       0                    0                     0   \n",
       "27                       0                    0                     0   \n",
       "28                       0                    0                     0   \n",
       "29                       0                    0                     0   \n",
       "...                    ...                  ...                   ...   \n",
       "6438                     0                    0                     0   \n",
       "6439                     0                    0                     0   \n",
       "6440                     0                    1                     0   \n",
       "6441                     0                    0                     0   \n",
       "6442                     0                    0                     0   \n",
       "6443                     0                    0                     0   \n",
       "6444                     0                    0                     0   \n",
       "6445                     0                    0                     0   \n",
       "6446                     0                    0                     0   \n",
       "6447                     0                    0                     0   \n",
       "6448                     0                    0                     0   \n",
       "6449                     0                    0                     0   \n",
       "6450                     0                    0                     0   \n",
       "6451                     0                    0                     0   \n",
       "6452                     0                    0                     0   \n",
       "6453                     0                    0                     0   \n",
       "6454                     0                    0                     0   \n",
       "6455                     0                    0                     0   \n",
       "6456                     0                    0                     0   \n",
       "6457                     0                    0                     0   \n",
       "6458                     0                    0                     0   \n",
       "6459                     0                    0                     0   \n",
       "6460                     0                    0                     0   \n",
       "6461                     0                    0                     0   \n",
       "6462                     0                    0                     0   \n",
       "6463                     0                    0                     0   \n",
       "6464                     0                    0                     0   \n",
       "6465                     0                    0                     0   \n",
       "6466                     0                    0                     0   \n",
       "6467                     0                    0                     0   \n",
       "\n",
       "      sqft_living_cut_7.5  sqft_living_cut_7.75  sqft_living_cut_8.0  \n",
       "0                       0                     0                    0  \n",
       "1                       0                     0                    0  \n",
       "2                       0                     0                    0  \n",
       "3                       0                     0                    0  \n",
       "4                       0                     0                    0  \n",
       "5                       0                     0                    0  \n",
       "6                       0                     0                    0  \n",
       "7                       0                     0                    0  \n",
       "8                       0                     0                    0  \n",
       "9                       0                     0                    0  \n",
       "10                      0                     0                    0  \n",
       "11                      0                     0                    0  \n",
       "12                      0                     0                    0  \n",
       "13                      0                     0                    0  \n",
       "14                      0                     0                    0  \n",
       "15                      0                     0                    0  \n",
       "16                      0                     0                    0  \n",
       "17                      0                     0                    0  \n",
       "18                      0                     0                    0  \n",
       "19                      0                     0                    0  \n",
       "20                      0                     0                    0  \n",
       "21                      0                     0                    0  \n",
       "22                      0                     0                    0  \n",
       "23                      0                     0                    0  \n",
       "24                      0                     0                    0  \n",
       "25                      0                     0                    0  \n",
       "26                      0                     0                    0  \n",
       "27                      0                     0                    0  \n",
       "28                      0                     0                    0  \n",
       "29                      0                     0                    0  \n",
       "...                   ...                   ...                  ...  \n",
       "6438                    0                     0                    0  \n",
       "6439                    0                     0                    0  \n",
       "6440                    0                     0                    0  \n",
       "6441                    0                     0                    0  \n",
       "6442                    0                     0                    0  \n",
       "6443                    0                     0                    0  \n",
       "6444                    0                     0                    0  \n",
       "6445                    0                     0                    0  \n",
       "6446                    0                     0                    0  \n",
       "6447                    0                     0                    0  \n",
       "6448                    0                     0                    0  \n",
       "6449                    0                     0                    0  \n",
       "6450                    0                     0                    0  \n",
       "6451                    0                     0                    0  \n",
       "6452                    0                     0                    0  \n",
       "6453                    0                     0                    0  \n",
       "6454                    0                     0                    0  \n",
       "6455                    0                     0                    0  \n",
       "6456                    0                     0                    0  \n",
       "6457                    0                     0                    0  \n",
       "6458                    0                     0                    0  \n",
       "6459                    0                     0                    0  \n",
       "6460                    0                     0                    0  \n",
       "6461                    0                     0                    0  \n",
       "6462                    0                     0                    0  \n",
       "6463                    0                     0                    0  \n",
       "6464                    0                     0                    0  \n",
       "6465                    0                     0                    0  \n",
       "6466                    0                     0                    0  \n",
       "6467                    0                     0                    0  \n",
       "\n",
       "[21503 rows x 58 columns]"
      ]
     },
     "execution_count": 97,
     "metadata": {},
     "output_type": "execute_result"
    }
   ],
   "source": [
    "quantilecut(all,'sqft_living',25)"
   ]
  },
  {
   "cell_type": "code",
   "execution_count": 54,
   "metadata": {
    "colab": {
     "base_uri": "https://localhost:8080/",
     "height": 2272
    },
    "colab_type": "code",
    "id": "yOYt70kLcBVn",
    "outputId": "e7621a9f-0e22-4ef8-d796-4ef43d623fb7"
   },
   "outputs": [
    {
     "name": "stdout",
     "output_type": "stream",
     "text": [
      "hello\n"
     ]
    },
    {
     "data": {
      "image/png": "[encoded data removed]",
      "text/plain": [
       "<Figure size 432x288 with 1 Axes>"
      ]
     },
     "metadata": {
      "needs_background": "light"
     },
     "output_type": "display_data"
    }
   ],
   "source": [
    "pricehist(all,\"sqft_living\",\"bar\")\n"
   ]
  },
  {
   "cell_type": "markdown",
   "metadata": {
    "colab_type": "text",
    "id": "lPNbrTmRT6Eg"
   },
   "source": [
    "### 2.1.1 Local User Functions"
   ]
  },
  {
   "cell_type": "code",
   "execution_count": 55,
   "metadata": {
    "colab": {},
    "colab_type": "code",
    "id": "QiPqhqW-OnMU"
   },
   "outputs": [],
   "source": [
    "# Date\n",
    "def yearmonth(x) :\n",
    "  return x[:6]"
   ]
  },
  {
   "cell_type": "markdown",
   "metadata": {
    "colab_type": "text",
    "id": "mkKsR-ffLqhf"
   },
   "source": [
    "## 2.2 Changing Features"
   ]
  },
  {
   "cell_type": "markdown",
   "metadata": {
    "colab_type": "text",
    "id": "e6I4OVvCM4M3"
   },
   "source": [
    "### 2.2.0 Price"
   ]
  },
  {
   "cell_type": "markdown",
   "metadata": {
    "colab_type": "text",
    "id": "thCIl47NLxeP"
   },
   "source": [
    "### 2.2.1 Date\n",
    "- yyyymm 으로 categorize \n",
    "- day 활용은 아직 없음"
   ]
  },
  {
   "cell_type": "code",
   "execution_count": 56,
   "metadata": {
    "colab": {
     "base_uri": "https://localhost:8080/",
     "height": 380
    },
    "colab_type": "code",
    "id": "trGsHsa-Ovqj",
    "outputId": "c82b1224-e029-469a-ff74-9d57e8f627c1"
   },
   "outputs": [
    {
     "name": "stdout",
     "output_type": "stream",
     "text": [
      "201405    1768\n",
      "201406    2180\n",
      "201407    2211\n",
      "201408    1937\n",
      "201409    1774\n",
      "201410    1873\n",
      "201411    1408\n",
      "201412    1459\n",
      "201501     969\n",
      "201502    1234\n",
      "201503    1851\n",
      "201504    2204\n",
      "201505     635\n",
      "Name: date, dtype: int64\n"
     ]
    },
    {
     "data": {
      "text/plain": [
       "Index(['bathrooms', 'bedrooms', 'condition', 'date', 'floors', 'grade', 'id',\n",
       "       'lat', 'long', 'price', 'sqft_above', 'sqft_basement', 'sqft_living',\n",
       "       'sqft_living15', 'sqft_lot', 'sqft_lot15', 'view', 'waterfront',\n",
       "       'yr_built', 'yr_renovated', 'zipcode', 'year', 'month', 'day',\n",
       "       'yearmonth', 'date_year', 'date_month', 'date_day', 'date_year_month'],\n",
       "      dtype='object')"
      ]
     },
     "execution_count": 56,
     "metadata": {},
     "output_type": "execute_result"
    }
   ],
   "source": [
    "print(all['date'].apply(lambda x : yearmonth(x)).value_counts().sort_index(axis=0))\n",
    "all['yearmonth'] = all.date.apply(lambda x : yearmonth(x))\n",
    "all.columns"
   ]
  },
  {
   "cell_type": "markdown",
   "metadata": {
    "colab_type": "text",
    "id": "RgWBEvpNL2PJ"
   },
   "source": [
    "### 2.2.2 Bedrooms\n",
    "- 선형 추세\n",
    "- 그대로 씀"
   ]
  },
  {
   "cell_type": "code",
   "execution_count": 57,
   "metadata": {
    "colab": {
     "base_uri": "https://localhost:8080/",
     "height": 2272
    },
    "colab_type": "code",
    "id": "iOjlOIYPTTfC",
    "outputId": "a675920f-766c-48f0-90f4-593005ebf3e9"
   },
   "outputs": [
    {
     "data": {
      "image/png": "[encoded data removed]",
      "text/plain": [
       "<Figure size 432x288 with 1 Axes>"
      ]
     },
     "metadata": {
      "needs_background": "light"
     },
     "output_type": "display_data"
    }
   ],
   "source": [
    "pricehist(all,'bedrooms','bar')"
   ]
  },
  {
   "cell_type": "markdown",
   "metadata": {
    "colab_type": "text",
    "id": "m58-nxu2L5wr"
   },
   "source": [
    "### 2.2.3 Bathrooms\n",
    "- 선형추세\n",
    "- 그대로 씀?\n",
    "- 6 이상을 처리해 줘야 할까?"
   ]
  },
  {
   "cell_type": "code",
   "execution_count": 60,
   "metadata": {
    "colab": {
     "base_uri": "https://localhost:8080/",
     "height": 1010
    },
    "colab_type": "code",
    "id": "kGE7NK4EUFbB",
    "outputId": "0f1b468f-4ec3-481e-f3b3-4129bfa53a1e"
   },
   "outputs": [
    {
     "data": {
      "text/html": [
       "<div>\n",
       "<style scoped>\n",
       "    .dataframe tbody tr th:only-of-type {\n",
       "        vertical-align: middle;\n",
       "    }\n",
       "\n",
       "    .dataframe tbody tr th {\n",
       "        vertical-align: top;\n",
       "    }\n",
       "\n",
       "    .dataframe thead th {\n",
       "        text-align: right;\n",
       "    }\n",
       "</style>\n",
       "<table border=\"1\" class=\"dataframe\">\n",
       "  <thead>\n",
       "    <tr style=\"text-align: right;\">\n",
       "      <th></th>\n",
       "      <th>count</th>\n",
       "      <th>mean</th>\n",
       "    </tr>\n",
       "    <tr>\n",
       "      <th>bathrooms</th>\n",
       "      <th></th>\n",
       "      <th></th>\n",
       "    </tr>\n",
       "  </thead>\n",
       "  <tbody>\n",
       "    <tr>\n",
       "      <th>0.00</th>\n",
       "      <td>4</td>\n",
       "      <td>2.852500e+05</td>\n",
       "    </tr>\n",
       "    <tr>\n",
       "      <th>0.50</th>\n",
       "      <td>3</td>\n",
       "      <td>2.123333e+05</td>\n",
       "    </tr>\n",
       "    <tr>\n",
       "      <th>0.75</th>\n",
       "      <td>45</td>\n",
       "      <td>2.812389e+05</td>\n",
       "    </tr>\n",
       "    <tr>\n",
       "      <th>1.00</th>\n",
       "      <td>2675</td>\n",
       "      <td>3.469929e+05</td>\n",
       "    </tr>\n",
       "    <tr>\n",
       "      <th>1.25</th>\n",
       "      <td>5</td>\n",
       "      <td>6.082900e+05</td>\n",
       "    </tr>\n",
       "    <tr>\n",
       "      <th>1.50</th>\n",
       "      <td>1009</td>\n",
       "      <td>4.052911e+05</td>\n",
       "    </tr>\n",
       "    <tr>\n",
       "      <th>1.75</th>\n",
       "      <td>2112</td>\n",
       "      <td>4.516214e+05</td>\n",
       "    </tr>\n",
       "    <tr>\n",
       "      <th>2.00</th>\n",
       "      <td>1357</td>\n",
       "      <td>4.628095e+05</td>\n",
       "    </tr>\n",
       "    <tr>\n",
       "      <th>2.25</th>\n",
       "      <td>1433</td>\n",
       "      <td>5.309718e+05</td>\n",
       "    </tr>\n",
       "    <tr>\n",
       "      <th>2.50</th>\n",
       "      <td>3748</td>\n",
       "      <td>5.558889e+05</td>\n",
       "    </tr>\n",
       "    <tr>\n",
       "      <th>2.75</th>\n",
       "      <td>843</td>\n",
       "      <td>6.632313e+05</td>\n",
       "    </tr>\n",
       "    <tr>\n",
       "      <th>3.00</th>\n",
       "      <td>493</td>\n",
       "      <td>7.151572e+05</td>\n",
       "    </tr>\n",
       "    <tr>\n",
       "      <th>3.25</th>\n",
       "      <td>410</td>\n",
       "      <td>9.857819e+05</td>\n",
       "    </tr>\n",
       "    <tr>\n",
       "      <th>3.50</th>\n",
       "      <td>510</td>\n",
       "      <td>9.180195e+05</td>\n",
       "    </tr>\n",
       "    <tr>\n",
       "      <th>3.75</th>\n",
       "      <td>108</td>\n",
       "      <td>1.244784e+06</td>\n",
       "    </tr>\n",
       "    <tr>\n",
       "      <th>4.00</th>\n",
       "      <td>100</td>\n",
       "      <td>1.247460e+06</td>\n",
       "    </tr>\n",
       "    <tr>\n",
       "      <th>4.25</th>\n",
       "      <td>57</td>\n",
       "      <td>1.512515e+06</td>\n",
       "    </tr>\n",
       "    <tr>\n",
       "      <th>4.50</th>\n",
       "      <td>64</td>\n",
       "      <td>1.329664e+06</td>\n",
       "    </tr>\n",
       "    <tr>\n",
       "      <th>4.75</th>\n",
       "      <td>16</td>\n",
       "      <td>2.028452e+06</td>\n",
       "    </tr>\n",
       "    <tr>\n",
       "      <th>5.00</th>\n",
       "      <td>14</td>\n",
       "      <td>1.713750e+06</td>\n",
       "    </tr>\n",
       "    <tr>\n",
       "      <th>5.25</th>\n",
       "      <td>11</td>\n",
       "      <td>1.898391e+06</td>\n",
       "    </tr>\n",
       "    <tr>\n",
       "      <th>5.50</th>\n",
       "      <td>7</td>\n",
       "      <td>2.640429e+06</td>\n",
       "    </tr>\n",
       "    <tr>\n",
       "      <th>5.75</th>\n",
       "      <td>3</td>\n",
       "      <td>2.683333e+06</td>\n",
       "    </tr>\n",
       "    <tr>\n",
       "      <th>6.00</th>\n",
       "      <td>2</td>\n",
       "      <td>4.467500e+06</td>\n",
       "    </tr>\n",
       "    <tr>\n",
       "      <th>6.25</th>\n",
       "      <td>1</td>\n",
       "      <td>2.888000e+06</td>\n",
       "    </tr>\n",
       "    <tr>\n",
       "      <th>6.50</th>\n",
       "      <td>0</td>\n",
       "      <td>NaN</td>\n",
       "    </tr>\n",
       "    <tr>\n",
       "      <th>6.75</th>\n",
       "      <td>1</td>\n",
       "      <td>8.000000e+05</td>\n",
       "    </tr>\n",
       "    <tr>\n",
       "      <th>7.50</th>\n",
       "      <td>1</td>\n",
       "      <td>4.500000e+05</td>\n",
       "    </tr>\n",
       "    <tr>\n",
       "      <th>7.75</th>\n",
       "      <td>1</td>\n",
       "      <td>6.885000e+06</td>\n",
       "    </tr>\n",
       "    <tr>\n",
       "      <th>8.00</th>\n",
       "      <td>2</td>\n",
       "      <td>4.990000e+06</td>\n",
       "    </tr>\n",
       "  </tbody>\n",
       "</table>\n",
       "</div>"
      ],
      "text/plain": [
       "           count          mean\n",
       "bathrooms                     \n",
       "0.00           4  2.852500e+05\n",
       "0.50           3  2.123333e+05\n",
       "0.75          45  2.812389e+05\n",
       "1.00        2675  3.469929e+05\n",
       "1.25           5  6.082900e+05\n",
       "1.50        1009  4.052911e+05\n",
       "1.75        2112  4.516214e+05\n",
       "2.00        1357  4.628095e+05\n",
       "2.25        1433  5.309718e+05\n",
       "2.50        3748  5.558889e+05\n",
       "2.75         843  6.632313e+05\n",
       "3.00         493  7.151572e+05\n",
       "3.25         410  9.857819e+05\n",
       "3.50         510  9.180195e+05\n",
       "3.75         108  1.244784e+06\n",
       "4.00         100  1.247460e+06\n",
       "4.25          57  1.512515e+06\n",
       "4.50          64  1.329664e+06\n",
       "4.75          16  2.028452e+06\n",
       "5.00          14  1.713750e+06\n",
       "5.25          11  1.898391e+06\n",
       "5.50           7  2.640429e+06\n",
       "5.75           3  2.683333e+06\n",
       "6.00           2  4.467500e+06\n",
       "6.25           1  2.888000e+06\n",
       "6.50           0           NaN\n",
       "6.75           1  8.000000e+05\n",
       "7.50           1  4.500000e+05\n",
       "7.75           1  6.885000e+06\n",
       "8.00           2  4.990000e+06"
      ]
     },
     "execution_count": 60,
     "metadata": {},
     "output_type": "execute_result"
    }
   ],
   "source": [
    "all.groupby(['bathrooms'])['price'].agg(['count','mean']).sort_index()"
   ]
  },
  {
   "cell_type": "code",
   "execution_count": 59,
   "metadata": {
    "colab": {
     "base_uri": "https://localhost:8080/",
     "height": 279
    },
    "colab_type": "code",
    "id": "9klR2u_dTpYg",
    "outputId": "2651f328-e878-41cb-9d86-6594669c65cb"
   },
   "outputs": [
    {
     "data": {
      "image/png": "[encoded data removed]",
      "text/plain": [
       "<Figure size 432x288 with 1 Axes>"
      ]
     },
     "metadata": {
      "needs_background": "light"
     },
     "output_type": "display_data"
    }
   ],
   "source": [
    "pricehist(all,'bathrooms','bar')"
   ]
  },
  {
   "cell_type": "markdown",
   "metadata": {
    "colab_type": "text",
    "id": "aiaPKoDtL5rP"
   },
   "source": [
    "### 2.2.4 Sqft_living"
   ]
  },
  {
   "cell_type": "markdown",
   "metadata": {
    "colab_type": "text",
    "id": "cpHMuhV1L5nw"
   },
   "source": [
    "### 2.2.5 Sqft_lot"
   ]
  },
  {
   "cell_type": "markdown",
   "metadata": {
    "colab_type": "text",
    "id": "HgYAJM3EL5jS"
   },
   "source": [
    "### 2.2.6 Floors"
   ]
  },
  {
   "cell_type": "markdown",
   "metadata": {
    "colab_type": "text",
    "id": "Ien1zrwkL5eh"
   },
   "source": [
    "### 2.2.7 Waterfront\n",
    "- 그대로"
   ]
  },
  {
   "cell_type": "code",
   "execution_count": 61,
   "metadata": {
    "colab": {
     "base_uri": "https://localhost:8080/",
     "height": 275
    },
    "colab_type": "code",
    "id": "hyhnpXBuVbUU",
    "outputId": "8f0295d3-71e0-4b5e-af41-3e8a10d01a6d"
   },
   "outputs": [
    {
     "data": {
      "image/png": "[encoded data removed]",
      "text/plain": [
       "<Figure size 432x288 with 1 Axes>"
      ]
     },
     "metadata": {
      "needs_background": "light"
     },
     "output_type": "display_data"
    }
   ],
   "source": [
    "pricehist(all, 'waterfront','bar')"
   ]
  },
  {
   "cell_type": "markdown",
   "metadata": {
    "colab_type": "text",
    "id": "e1awut03L5Zk"
   },
   "source": [
    "### 2.2.8 View\n",
    "- 그대로"
   ]
  },
  {
   "cell_type": "code",
   "execution_count": 62,
   "metadata": {
    "colab": {
     "base_uri": "https://localhost:8080/",
     "height": 275
    },
    "colab_type": "code",
    "id": "rV1IiAM3Wgl3",
    "outputId": "5a5203b8-af96-4676-f0da-d7138d65e370"
   },
   "outputs": [
    {
     "data": {
      "image/png": "[encoded data removed]",
      "text/plain": [
       "<Figure size 432x288 with 1 Axes>"
      ]
     },
     "metadata": {
      "needs_background": "light"
     },
     "output_type": "display_data"
    }
   ],
   "source": [
    "pricehist(all,'view','bar')"
   ]
  },
  {
   "cell_type": "markdown",
   "metadata": {
    "colab_type": "text",
    "id": "WwBLsAWUL5Qc"
   },
   "source": [
    "### 2.2.9 Condition\n",
    "- 그대로"
   ]
  },
  {
   "cell_type": "code",
   "execution_count": 63,
   "metadata": {
    "colab": {
     "base_uri": "https://localhost:8080/",
     "height": 275
    },
    "colab_type": "code",
    "id": "53LYnOrHWm-c",
    "outputId": "d7f3b2f7-34b1-4089-97c3-abf536832b3f"
   },
   "outputs": [
    {
     "data": {
      "image/png": "[encoded data removed]",
      "text/plain": [
       "<Figure size 432x288 with 1 Axes>"
      ]
     },
     "metadata": {
      "needs_background": "light"
     },
     "output_type": "display_data"
    }
   ],
   "source": [
    "pricehist(all,'condition','bar')"
   ]
  },
  {
   "cell_type": "markdown",
   "metadata": {
    "colab_type": "text",
    "id": "J53QXCUWL48r"
   },
   "source": [
    "### 2.2.10 Grade\n",
    "- 그대로"
   ]
  },
  {
   "cell_type": "code",
   "execution_count": 64,
   "metadata": {
    "colab": {
     "base_uri": "https://localhost:8080/",
     "height": 281
    },
    "colab_type": "code",
    "id": "qdoYt2KLW03-",
    "outputId": "b65972e5-319d-4f27-bf55-82847f362830"
   },
   "outputs": [
    {
     "data": {
      "image/png": "[encoded data removed]",
      "text/plain": [
       "<Figure size 432x288 with 1 Axes>"
      ]
     },
     "metadata": {
      "needs_background": "light"
     },
     "output_type": "display_data"
    }
   ],
   "source": [
    "pricehist(all,'grade','bar')"
   ]
  },
  {
   "cell_type": "markdown",
   "metadata": {
    "colab_type": "text",
    "id": "WOYONPyPMYWe"
   },
   "source": [
    "### 2.2.11 Sqft_living15"
   ]
  },
  {
   "cell_type": "code",
   "execution_count": 66,
   "metadata": {
    "colab": {
     "base_uri": "https://localhost:8080/",
     "height": 2272
    },
    "colab_type": "code",
    "id": "si0ci-mKXDQs",
    "outputId": "f87c9473-21ec-4f19-b401-c6d390f1e5a7"
   },
   "outputs": [
    {
     "name": "stdout",
     "output_type": "stream",
     "text": [
      "hello\n"
     ]
    },
    {
     "data": {
      "image/png": "[encoded data removed]",
      "text/plain": [
       "<Figure size 432x288 with 1 Axes>"
      ]
     },
     "metadata": {
      "needs_background": "light"
     },
     "output_type": "display_data"
    }
   ],
   "source": [
    "pricehist(all,'sqft_living15','bar')"
   ]
  },
  {
   "cell_type": "markdown",
   "metadata": {
    "colab_type": "text",
    "id": "kq7Yjq4cMYR_"
   },
   "source": [
    "### 2.2.12 Sqft_lot15\n",
    "- 제거"
   ]
  },
  {
   "cell_type": "code",
   "execution_count": 67,
   "metadata": {},
   "outputs": [
    {
     "name": "stdout",
     "output_type": "stream",
     "text": [
      "hello\n"
     ]
    },
    {
     "data": {
      "image/png": "[encoded data removed]",
      "text/plain": [
       "<Figure size 432x288 with 1 Axes>"
      ]
     },
     "metadata": {
      "needs_background": "light"
     },
     "output_type": "display_data"
    }
   ],
   "source": [
    "pricehist(all,'sqft_lot15','bar')"
   ]
  },
  {
   "cell_type": "markdown",
   "metadata": {
    "colab_type": "text",
    "id": "CjL_0v15MYNJ"
   },
   "source": [
    "### 2.2.13 Sqft_above"
   ]
  },
  {
   "cell_type": "code",
   "execution_count": 68,
   "metadata": {},
   "outputs": [
    {
     "name": "stdout",
     "output_type": "stream",
     "text": [
      "hello\n"
     ]
    },
    {
     "data": {
      "image/png": "[encoded data removed]",
      "text/plain": [
       "<Figure size 432x288 with 1 Axes>"
      ]
     },
     "metadata": {
      "needs_background": "light"
     },
     "output_type": "display_data"
    }
   ],
   "source": [
    "pricehist(all,'sqft_above','bar')"
   ]
  },
  {
   "cell_type": "markdown",
   "metadata": {
    "colab_type": "text",
    "id": "I50O28RhMYHo"
   },
   "source": [
    "### 2.2.14 Sqft_basement"
   ]
  },
  {
   "cell_type": "code",
   "execution_count": 69,
   "metadata": {},
   "outputs": [
    {
     "name": "stdout",
     "output_type": "stream",
     "text": [
      "hello\n"
     ]
    },
    {
     "data": {
      "image/png": "[encoded data removed]",
      "text/plain": [
       "<Figure size 432x288 with 1 Axes>"
      ]
     },
     "metadata": {
      "needs_background": "light"
     },
     "output_type": "display_data"
    }
   ],
   "source": [
    "pricehist(all,'sqft_basement','bar')"
   ]
  },
  {
   "cell_type": "markdown",
   "metadata": {
    "colab_type": "text",
    "id": "oVIj8K3PMX_S"
   },
   "source": [
    "### 2.2.15 Yr_built"
   ]
  },
  {
   "cell_type": "code",
   "execution_count": 70,
   "metadata": {},
   "outputs": [
    {
     "name": "stdout",
     "output_type": "stream",
     "text": [
      "hello\n"
     ]
    },
    {
     "data": {
      "image/png": "[encoded data removed]",
      "text/plain": [
       "<Figure size 432x288 with 1 Axes>"
      ]
     },
     "metadata": {
      "needs_background": "light"
     },
     "output_type": "display_data"
    }
   ],
   "source": [
    "pricehist(all,'yr_built','bar')"
   ]
  },
  {
   "cell_type": "markdown",
   "metadata": {
    "colab_type": "text",
    "id": "r0-XU8CHMXyW"
   },
   "source": [
    "### 2.2.16 Yr_renovated"
   ]
  },
  {
   "cell_type": "code",
   "execution_count": 72,
   "metadata": {},
   "outputs": [
    {
     "name": "stdout",
     "output_type": "stream",
     "text": [
      "hello\n"
     ]
    },
    {
     "data": {
      "image/png": "[encoded data removed]",
      "text/plain": [
       "<Figure size 432x288 with 1 Axes>"
      ]
     },
     "metadata": {
      "needs_background": "light"
     },
     "output_type": "display_data"
    }
   ],
   "source": [
    "pricehist(all[all['yr_renovated']!=0],'yr_renovated','bar')"
   ]
  },
  {
   "cell_type": "markdown",
   "metadata": {
    "colab_type": "text",
    "id": "SpuDur8JNlje"
   },
   "source": [
    "### 2.2.17 Lat"
   ]
  },
  {
   "cell_type": "code",
   "execution_count": 73,
   "metadata": {},
   "outputs": [
    {
     "name": "stdout",
     "output_type": "stream",
     "text": [
      "hello\n"
     ]
    },
    {
     "data": {
      "image/png": "[encoded data removed]",
      "text/plain": [
       "<Figure size 432x288 with 1 Axes>"
      ]
     },
     "metadata": {
      "needs_background": "light"
     },
     "output_type": "display_data"
    }
   ],
   "source": [
    "pricehist(all, 'lat','bar')"
   ]
  },
  {
   "cell_type": "markdown",
   "metadata": {
    "colab_type": "text",
    "id": "-KiZ3233NtWC"
   },
   "source": [
    "### 2.2.18 Long"
   ]
  },
  {
   "cell_type": "code",
   "execution_count": 74,
   "metadata": {},
   "outputs": [
    {
     "name": "stdout",
     "output_type": "stream",
     "text": [
      "hello\n"
     ]
    },
    {
     "data": {
      "image/png": "[encoded data removed]",
      "text/plain": [
       "<Figure size 432x288 with 1 Axes>"
      ]
     },
     "metadata": {
      "needs_background": "light"
     },
     "output_type": "display_data"
    }
   ],
   "source": [
    "pricehist(all,'long','bar')"
   ]
  },
  {
   "cell_type": "markdown",
   "metadata": {
    "colab_type": "text",
    "id": "pis0AGSVNvVO"
   },
   "source": [
    "### 2.2.19 Zipcode"
   ]
  },
  {
   "cell_type": "code",
   "execution_count": 75,
   "metadata": {},
   "outputs": [
    {
     "name": "stdout",
     "output_type": "stream",
     "text": [
      "hello\n"
     ]
    },
    {
     "data": {
      "image/png": "[encoded data removed]",
      "text/plain": [
       "<Figure size 432x288 with 1 Axes>"
      ]
     },
     "metadata": {
      "needs_background": "light"
     },
     "output_type": "display_data"
    }
   ],
   "source": [
    "pricehist(all,'zipcode','bar')"
   ]
  },
  {
   "cell_type": "markdown",
   "metadata": {
    "colab_type": "text",
    "id": "Fwn-6z0dC68I"
   },
   "source": [
    "# 3 Modeling"
   ]
  },
  {
   "cell_type": "markdown",
   "metadata": {
    "colab_type": "text",
    "id": "g5b85ho--kw6"
   },
   "source": [
    "## 3.1 XGboost"
   ]
  },
  {
   "cell_type": "code",
   "execution_count": 0,
   "metadata": {
    "colab": {},
    "colab_type": "code",
    "id": "FH5nE-XYFuPR"
   },
   "outputs": [],
   "source": [
    "## columns 확인\n",
    "all.columns"
   ]
  },
  {
   "cell_type": "markdown",
   "metadata": {
    "colab_type": "text",
    "id": "-oUAkDWd-oL-"
   },
   "source": [
    "### 3.1.0 Data Arrange\n"
   ]
  },
  {
   "cell_type": "code",
   "execution_count": 0,
   "metadata": {
    "colab": {},
    "colab_type": "code",
    "id": "B5o6HfTh-sOG"
   },
   "outputs": [],
   "source": [
    "## all을 train과 test로 다시 나누기\n",
    "train = all[all['log_price'].isnull()=False]\n",
    "test = all[all['log_price'].isnull()=True]\n",
    "\n",
    "## 다시 dataset을 x_train, y_train, x_test로 나누기\n",
    "x_train = train.drop('log_price',axis=1)\n",
    "y_train = trian['log_price']\n",
    "x_test = test.drop('log_price',axis=1)\n"
   ]
  },
  {
   "cell_type": "markdown",
   "metadata": {
    "colab_type": "text",
    "id": "SD7dQmPECDi3"
   },
   "source": [
    "### 3.1.1 Parameters"
   ]
  },
  {
   "cell_type": "code",
   "execution_count": 0,
   "metadata": {
    "colab": {},
    "colab_type": "code",
    "id": "3tL0dIgb-kEQ"
   },
   "outputs": [],
   "source": [
    "# XGB Parameter\n",
    "xgb_params = {\n",
    "    'eta': 0.02,\n",
    "    'max_depth': 6,\n",
    "    'subample': 0.8,\n",
    "    'colsample_bytree': 0.4,\n",
    "    'objective': 'reg:linear',     # 회귀\n",
    "    'eval_metirc': 'rmse',         # kaglle에서 요구하는 검증모델\n",
    "    'silent': True                 # 학습 동안 메세지 출력 여부\n",
    "}"
   ]
  },
  {
   "cell_type": "code",
   "execution_count": 0,
   "metadata": {
    "colab": {},
    "colab_type": "code",
    "id": "vciGTW2UCNEk"
   },
   "outputs": [],
   "source": [
    "# DMatrix\n",
    "dtrain = xgb.DMatrix(x_train,y_train)\n",
    "dtest = xgb.DMatirx(x_test)"
   ]
  },
  {
   "cell_type": "code",
   "execution_count": 0,
   "metadata": {
    "colab": {},
    "colab_type": "code",
    "id": "KAy3in-HCM0b"
   },
   "outputs": [],
   "source": [
    "# Feval(RMSE_exp)\n",
    "def rmse_exp(predictions, dmat):\n",
    "    labels = dmat.get_label()\n",
    "    diffs = np.exp(predictions) - np.exp(labels)\n",
    "    squared_diffs = np.square(diffs)\n",
    "    avg = np.mean(squared_diffs)\n",
    "    return ('rmse_exp', np.sqrt(avg))"
   ]
  },
  {
   "cell_type": "markdown",
   "metadata": {
    "colab_type": "text",
    "id": "yyszetmkCINx"
   },
   "source": [
    "### 3.1.2 Train Boosting"
   ]
  },
  {
   "cell_type": "code",
   "execution_count": 0,
   "metadata": {
    "colab": {},
    "colab_type": "code",
    "id": "savzUUPJCYrH"
   },
   "outputs": [],
   "source": [
    "# cv_output ## -> 내 모델의 성능을 객관적으로 파악하기 위함이다. -> test-rmse가 홈페이지에 있는 값과 비슷한 것.\n",
    "cv_output = xgb.cv(xgb_params,\n",
    "                   dtrain,                        \n",
    "                   num_boost_round=5000,         # 학습 횟수\n",
    "                   early_stopping_rounds=100,    # overfitting 방지\n",
    "                   nfold=5,                      # 높을 수록 실제 검증값에 가까워지고 낮을 수록 빠름\n",
    "                   verbose_eval=100,             # 몇 번째마다 메세지를 출력할 것인지\n",
    "                   feval=rmse_exp,               # price 속성을 log scaling 했기 때문에, 다시 exponential\n",
    "                   maximize=False,\n",
    "                   show_stdv=False,              # 학습 동안 std(표준편차) 출력할지 말지\n",
    "                   )"
   ]
  },
  {
   "cell_type": "code",
   "execution_count": 0,
   "metadata": {
    "colab": {},
    "colab_type": "code",
    "id": "mgy1TCqGENAx"
   },
   "outputs": [],
   "source": [
    "# scoring\n",
    "best_rounds = cv_output.index.size\n",
    "score = round(cv_output.iloc[-1]['test-rmse_exp-mean'], 2)\n",
    "\n",
    "print(f'\\nBest Rounds: {best_rounds}')\n",
    "print(f'Best Score: {score}')"
   ]
  },
  {
   "cell_type": "markdown",
   "metadata": {
    "colab_type": "text",
    "id": "oduuMpbCCqvu"
   },
   "source": [
    "### 3.1.3 Test Boosting"
   ]
  },
  {
   "cell_type": "code",
   "execution_count": 0,
   "metadata": {
    "colab": {},
    "colab_type": "code",
    "id": "Zdm7AbV8Ctv6"
   },
   "outputs": [],
   "source": [
    "model = xgb.train(xgb_params,dtrain, num_boost_round=)\n",
    "y_pred = model.predict(dtest)\n",
    "y_pred = np.exp(y_pred)"
   ]
  },
  {
   "cell_type": "markdown",
   "metadata": {
    "colab_type": "text",
    "id": "BqnQbCKnC7gZ"
   },
   "source": [
    "# 4 Submission"
   ]
  },
  {
   "cell_type": "markdown",
   "metadata": {
    "colab_type": "text",
    "id": "GGz1BtUGKMIP"
   },
   "source": [
    "## 4.1 Read Sample Submission"
   ]
  },
  {
   "cell_type": "code",
   "execution_count": 0,
   "metadata": {
    "colab": {},
    "colab_type": "code",
    "id": "Yeb3ydeYKX31"
   },
   "outputs": [],
   "source": [
    "# Read the Sample submission file\n",
    "sample_submission = pd.read_csv(\"\")"
   ]
  },
  {
   "cell_type": "markdown",
   "metadata": {
    "colab_type": "text",
    "id": "FusCkRRJKTOJ"
   },
   "source": [
    "## 4.2 Save Submission"
   ]
  },
  {
   "cell_type": "code",
   "execution_count": 0,
   "metadata": {
    "colab": {},
    "colab_type": "code",
    "id": "OtXO_bxiKfco"
   },
   "outputs": [],
   "source": [
    "# Change the data\n",
    "submission = pd.DataFrame(data={'id':test['id'],'price':y_pred})"
   ]
  },
  {
   "cell_type": "code",
   "execution_count": 0,
   "metadata": {
    "colab": {},
    "colab_type": "code",
    "id": "2wPgfalLDB1u"
   },
   "outputs": [],
   "source": [
    "# Save the data\n",
    "submission.to_csv('sub_0412_01.csv',index=False)"
   ]
  }
 ],
 "metadata": {
  "colab": {
   "collapsed_sections": [
    "ayhGnlHpBLpG"
   ],
   "name": "Copy of Euihyeon_week3.ipynb",
   "provenance": [],
   "toc_visible": true,
   "version": "0.3.2"
  },
  "kernelspec": {
   "display_name": "Python 3",
   "language": "python",
   "name": "python3"
  },
  "language_info": {
   "codemirror_mode": {
    "name": "ipython",
    "version": 3
   },
   "file_extension": ".py",
   "mimetype": "text/x-python",
   "name": "python",
   "nbconvert_exporter": "python",
   "pygments_lexer": "ipython3",
   "version": "3.6.8"
  }
 },
 "nbformat": 4,
 "nbformat_minor": 1
}
